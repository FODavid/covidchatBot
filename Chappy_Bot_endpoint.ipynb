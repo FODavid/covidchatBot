{
 "metadata": {
  "language_info": {
   "codemirror_mode": {
    "name": "ipython",
    "version": 3
   },
   "file_extension": ".py",
   "mimetype": "text/x-python",
   "name": "python",
   "nbconvert_exporter": "python",
   "pygments_lexer": "ipython3",
   "version": "3.6.10-final"
  },
  "orig_nbformat": 2,
  "kernelspec": {
   "name": "python3",
   "display_name": "Python 3.6.10 64-bit ('chat_bot': conda)",
   "metadata": {
    "interpreter": {
     "hash": "188116306bda923fdd40ee1be82ae81d0697b2a3fcd66dbf1924fb0cceb53578"
    }
   }
  }
 },
 "nbformat": 4,
 "nbformat_minor": 2,
 "cells": [
  {
   "cell_type": "code",
   "execution_count": 15,
   "metadata": {},
   "outputs": [],
   "source": [
    "import nltk\n",
    "from nltk.stem.lancaster import LancasterStemmer\n",
    "stemmer = LancasterStemmer()\n",
    "\n",
    "from flask_cors import CORS, cross_origin\n",
    "from flask import Flask, jsonify, request\n",
    "from flask import Flask, render_template, request\n",
    "from keras.models import load_model\n",
    "from keras.optimizers import SGD\n",
    "\n",
    "\n",
    "import tensorflow as tf\n",
    "from tensorflow import keras\n",
    "from tensorflow.python.framework import ops\n",
    "import numpy as np\n",
    "import pandas as pd\n",
    "import pickle\n",
    "import json\n",
    "import random\n",
    "\n"
   ]
  },
  {
   "cell_type": "code",
   "execution_count": 16,
   "metadata": {},
   "outputs": [],
   "source": [
    "data = pickle.load(open( \"chappy-bot-data.pkl\", \"rb\"))\n",
    "words = data['words']\n",
    "classes = data['classes']\n",
    "train_x = data['train_x']\n",
    "train_y = data ['train_y']\n",
    "\n",
    "with open('intents.json') as json_data:\n",
    "    intents = json.load(json_data)\n",
    "# model = load_model('chappy-bot-model.h5')"
   ]
  },
  {
   "cell_type": "code",
   "execution_count": 17,
   "metadata": {},
   "outputs": [],
   "source": [
    "model = keras.Sequential()\n",
    "model.add(keras.layers.Dense(128, input_shape=(len (train_x[0]),), activation ='relu'))\n",
    "model.add(keras.layers.Dropout(0.5))\n",
    "model.add(keras.layers.Dense(64, activation='relu'))\n",
    "model.add(keras.layers.Dropout(0.5))\n",
    "model.add(keras.layers.Dense(len(train_y[0]), activation='softmax'))\n",
    "\n",
    "sgd = SGD(lr=0.01, decay=1e-6, momentum=0.9, nesterov=True)\n",
    "model.compile(loss='categorical_crossentropy', optimizer=sgd, metrics=['accuracy'])"
   ]
  },
  {
   "cell_type": "code",
   "execution_count": 18,
   "metadata": {},
   "outputs": [],
   "source": [
    "def clean_up_sentence(sentence):\n",
    "    sentence_words = nltk.word_tokenize(sentence)\n",
    "    sentence_words = [stemmer.stem(word.lower()) for word in sentence_words]\n",
    "    return sentence_words\n",
    "\n",
    "\n",
    "def bow(sentence, words, show_details=True):\n",
    "    sentence_words = clean_up_sentence(sentence)\n",
    "    bag = [0] * len(words)\n",
    "\n",
    "    for s in sentence_words: \n",
    "        for i, w in enumerate(words):\n",
    "            if w == s:\n",
    "                bag[i] = 1\n",
    "                if show_details:\n",
    "                    print(\"found in bag: %s\" % w)\n",
    "    return (np.array(bag))"
   ]
  },
  {
   "cell_type": "code",
   "execution_count": 19,
   "metadata": {},
   "outputs": [],
   "source": [
    "def predict_class(sentence, model):\n",
    "    p = bow (sentence, words,show_details=False)\n",
    "    res = model.predict(np.array([p])) [0]\n",
    "    ERROR_THRESHOLD = 0.25\n",
    "    results = [[i,r] for i,r in enumerate(res) if r>ERROR_THRESHOLD]\n",
    "    results.sort(key=lambda x: x[1], reverse=True)\n",
    "    return_list = []\n",
    "    for r in results:\n",
    "        return_list.append({\"intent\": classes[r[0]], \"probability\": str(r[1])})\n",
    "        return return_list\n"
   ]
  },
  {
   "cell_type": "code",
   "execution_count": 20,
   "metadata": {
    "tags": []
   },
   "outputs": [
    {
     "output_type": "stream",
     "name": "stdout",
     "text": [
      "found in bag: i\nfound in bag: lov\nfound in bag: you\n[0 0 0 0 0 0 0 0 0 0 0 0 0 0 0 0 0 0 0 0 0 0 0 0 0 0 0 0 0 0 0 0 0 0 0 0 0\n 0 0 0 0 0 0 0 0 0 0 0 0 0 0 1 0 0 0 0 0 0 0 1 0 0 0 0 0 0 0 0 0 0 0 0 0 0\n 0 0 0 0 0 0 0 0 0 0 0 0 0 0 0 0 0 0 0 0 0 0 0 1]\n['Hate', 'None', 'age', 'banter', 'body-pain', 'breathing', 'cough', 'diarrhoea', 'fever', 'goodbye', 'greeting', 'headache', 'name', 'nasal', 'noanswer', 'options', 'sore-throat', 'thanks', 'tiredness', 'unknown', 'vomit', 'yes']\n"
     ]
    }
   ],
   "source": [
    "p = bow(\"I love you\", words)\n",
    "print(p)\n",
    "print(classes)"
   ]
  },
  {
   "cell_type": "code",
   "execution_count": 21,
   "metadata": {},
   "outputs": [],
   "source": [
    "global graph\n",
    "graph = ops.get_default_graph()\n",
    "\n",
    "with open(f'chappy-bot-model.h5', 'rb') as f:\n",
    "    model = keras.models.load_model('chappy-bot-model.h5')"
   ]
  },
  {
   "cell_type": "code",
   "execution_count": 22,
   "metadata": {},
   "outputs": [],
   "source": [
    "\n",
    "\n",
    "def getResponse(ints, intents_json):\n",
    "    responseArray = []\n",
    "    tag = ints[0] ['intent']\n",
    "    list_of_intents = intents_json['intents']\n",
    "    for i in list_of_intents:\n",
    "        if (i ['tag'] == tag):\n",
    "            responseArray.append(tag);\n",
    "            print(i['tag'])\n",
    "            print(tag)\n",
    "            \n",
    "            result = random.choice(i['responses'])\n",
    "            responseArray.append(result);           \n",
    "            print (result)\n",
    "            break\n",
    "    \n",
    "    \n",
    "    \n",
    "    return responseArray\n",
    "\n",
    "\n",
    "\n",
    "def chatbot_response(text):\n",
    "    ints = predict_class(text, model)\n",
    "    print(ints)\n",
    "    res = getResponse (ints, intents)\n",
    "    return res\n",
    "\n",
    "def chatbot_prediction(text):\n",
    "\n",
    "    predict_list = text.split(',')\n",
    "    predict_test = [predict_list]\n",
    "    loaded_model = pickle.load(open('knnpickle_file', 'rb'))\n",
    "    result = loaded_model.predict(predict_test) \n",
    "    print(result)\n",
    "\n",
    "    return result\n",
    "\n",
    "\n"
   ]
  },
  {
   "cell_type": "code",
   "execution_count": 23,
   "metadata": {},
   "outputs": [
    {
     "output_type": "execute_result",
     "data": {
      "text/plain": [
       "[{'intent': 'Hate', 'probability': '1.0'}]"
      ]
     },
     "metadata": {},
     "execution_count": 23
    }
   ],
   "source": [
    "predict_class('I hate you', model)"
   ]
  },
  {
   "cell_type": "code",
   "execution_count": 24,
   "metadata": {},
   "outputs": [
    {
     "output_type": "execute_result",
     "data": {
      "text/plain": [
       "[{'intent': 'greeting', 'probability': '1.0'}]"
      ]
     },
     "metadata": {},
     "execution_count": 24
    }
   ],
   "source": [
    "predict_class('Hello', model)"
   ]
  },
  {
   "cell_type": "code",
   "execution_count": 25,
   "metadata": {},
   "outputs": [
    {
     "output_type": "execute_result",
     "data": {
      "text/plain": [
       "[{'intent': 'cough', 'probability': '1.0'}]"
      ]
     },
     "metadata": {},
     "execution_count": 25
    }
   ],
   "source": [
    "predict_class('I have a cough', model)"
   ]
  },
  {
   "cell_type": "code",
   "execution_count": 26,
   "metadata": {},
   "outputs": [
    {
     "output_type": "execute_result",
     "data": {
      "text/plain": [
       "[{'intent': 'cough', 'probability': '1.0'}]"
      ]
     },
     "metadata": {},
     "execution_count": 26
    }
   ],
   "source": [
    "predict_class('Yes, I have a cough', model)"
   ]
  },
  {
   "cell_type": "code",
   "execution_count": 27,
   "metadata": {},
   "outputs": [
    {
     "output_type": "execute_result",
     "data": {
      "text/plain": [
       "[{'intent': 'unknown', 'probability': '0.5108906'}]"
      ]
     },
     "metadata": {},
     "execution_count": 27
    }
   ],
   "source": [
    "predict_class('now', model)"
   ]
  },
  {
   "cell_type": "code",
   "execution_count": 14,
   "metadata": {
    "tags": []
   },
   "outputs": [
    {
     "output_type": "stream",
     "name": "stdout",
     "text": [
      " * Serving Flask app \"__main__\" (lazy loading)\n",
      " * Environment: production\n",
      "   WARNING: This is a development server. Do not use it in a production deployment.\n",
      "   Use a production WSGI server instead.\n",
      " * Debug mode: off\n",
      " * Running on http://127.0.0.1:5000/ (Press CTRL+C to quit)\n",
      "127.0.0.1 - - [06/Apr/2021 21:20:03] \"\u001b[37mGET / HTTP/1.1\u001b[0m\" 200 -\n",
      "127.0.0.1 - - [06/Apr/2021 21:20:04] \"\u001b[37mGET /static/styles/style.css HTTP/1.1\u001b[0m\" 200 -\n",
      "127.0.0.1 - - [06/Apr/2021 21:20:17] \"\u001b[37mGET /get?msg=Hi HTTP/1.1\u001b[0m\" 200 -\n",
      "[{'intent': 'greeting', 'probability': '1.0'}]\n",
      "greeting\n",
      "greeting\n",
      "Hi there, how can I help?\n",
      "127.0.0.1 - - [06/Apr/2021 21:20:30] \"\u001b[37mGET /get?msg=How%20are%20you%3F HTTP/1.1\u001b[0m\" 200 -\n",
      "[{'intent': 'greeting', 'probability': '1.0'}]\n",
      "greeting\n",
      "greeting\n",
      "Hello!\n",
      "127.0.0.1 - - [06/Apr/2021 21:21:01] \"\u001b[37mGET /get?msg=I%20love%20you%20 HTTP/1.1\u001b[0m\" 200 -\n",
      "[{'intent': 'Hate', 'probability': '0.9998286'}]\n",
      "Hate\n",
      "Hate\n",
      "That's Okay, I still care about you!\n",
      "127.0.0.1 - - [06/Apr/2021 21:21:19] \"\u001b[37mGET /get?msg=I%20love%20you HTTP/1.1\u001b[0m\" 200 -\n",
      "[{'intent': 'Hate', 'probability': '0.9998286'}]\n",
      "Hate\n",
      "Hate\n",
      "I'm just trying to help\n",
      "127.0.0.1 - - [06/Apr/2021 21:23:07] \"\u001b[37mGET /get?msg=cough HTTP/1.1\u001b[0m\" 200 -\n",
      "[{'intent': 'cough', 'probability': '1.0'}]\n",
      "cough\n",
      "cough\n",
      "\n",
      "127.0.0.1 - - [06/Apr/2021 21:23:26] \"\u001b[37mGET /get?msg=none HTTP/1.1\u001b[0m\" 200 -\n",
      "[{'intent': 'None', 'probability': '1.0'}]\n",
      "None\n",
      "None\n",
      "\n",
      "C:\\Users\\Detail\\anaconda3\\envs\\chat_bot\\lib\\site-packages\\sklearn\\utils\\validation.py:72: FutureWarning: Beginning in version 0.22, arrays of bytes/strings will be converted to decimal numbers if dtype='numeric'. It is recommended that you convert the array to a float dtype before using it in scikit-learn, for example by using your_array = your_array.astype(np.float64).\n",
      "  return f(**kwargs)\n",
      "C:\\Users\\Detail\\anaconda3\\envs\\chat_bot\\lib\\site-packages\\sklearn\\utils\\validation.py:72: FutureWarning: Beginning in version 0.22, arrays of bytes/strings will be converted to decimal numbers if dtype='numeric'. It is recommended that you convert the array to a float dtype before using it in scikit-learn, for example by using your_array = your_array.astype(np.float64).\n",
      "  return f(**kwargs)\n",
      "127.0.0.1 - - [06/Apr/2021 21:23:32] \"\u001b[37mPOST /post HTTP/1.1\u001b[0m\" 200 -\n",
      "[1]\n",
      "127.0.0.1 - - [06/Apr/2021 21:25:03] \"\u001b[37mGET /get?msg=Thank%20you HTTP/1.1\u001b[0m\" 200 -\n",
      "[{'intent': 'thanks', 'probability': '1.0'}]\n",
      "thanks\n",
      "thanks\n",
      "Happy to help!\n",
      "127.0.0.1 - - [06/Apr/2021 21:25:09] \"\u001b[37mGET / HTTP/1.1\u001b[0m\" 200 -\n",
      "127.0.0.1 - - [06/Apr/2021 21:25:16] \"\u001b[37mGET /get?msg=Do%20you%20love%20me HTTP/1.1\u001b[0m\" 200 -\n",
      "[{'intent': 'banter', 'probability': '1.0'}]\n",
      "banter\n",
      "banter\n",
      "Let'spend a litle more time together, then I'll decide\n",
      "127.0.0.1 - - [06/Apr/2021 21:25:27] \"\u001b[37mGET /get?msg=lol HTTP/1.1\u001b[0m\" 200 -\n",
      "[{'intent': 'unknown', 'probability': '0.51475626'}]\n",
      "unknown\n",
      "unknown\n",
      "Sorry, I do not understand your message, Please tell me how I can help you?\n",
      "127.0.0.1 - - [06/Apr/2021 21:34:43] \"\u001b[37mGET /get?msg=I%20have%20cough HTTP/1.1\u001b[0m\" 200 -\n",
      "[{'intent': 'cough', 'probability': '1.0'}]\n",
      "cough\n",
      "cough\n",
      "\n",
      "127.0.0.1 - - [06/Apr/2021 21:34:50] \"\u001b[37mGET /get?msg=fever HTTP/1.1\u001b[0m\" 200 -\n",
      "[{'intent': 'fever', 'probability': '1.0'}]\n",
      "fever\n",
      "fever\n",
      "\n",
      "127.0.0.1 - - [06/Apr/2021 21:35:08] \"\u001b[37mGET /get?msg=and%20tiredness HTTP/1.1\u001b[0m\" 200 -\n",
      "[{'intent': 'tiredness', 'probability': '1.0'}]\n",
      "tiredness\n",
      "tiredness\n",
      "\n",
      "127.0.0.1 - - [06/Apr/2021 21:35:13] \"\u001b[37mGET /get?msg=none HTTP/1.1\u001b[0m\" 200 -\n",
      "[{'intent': 'None', 'probability': '1.0'}]\n",
      "None\n",
      "None\n",
      "\n",
      "C:\\Users\\Detail\\anaconda3\\envs\\chat_bot\\lib\\site-packages\\sklearn\\utils\\validation.py:72: FutureWarning: Beginning in version 0.22, arrays of bytes/strings will be converted to decimal numbers if dtype='numeric'. It is recommended that you convert the array to a float dtype before using it in scikit-learn, for example by using your_array = your_array.astype(np.float64).\n",
      "  return f(**kwargs)\n",
      "C:\\Users\\Detail\\anaconda3\\envs\\chat_bot\\lib\\site-packages\\sklearn\\utils\\validation.py:72: FutureWarning: Beginning in version 0.22, arrays of bytes/strings will be converted to decimal numbers if dtype='numeric'. It is recommended that you convert the array to a float dtype before using it in scikit-learn, for example by using your_array = your_array.astype(np.float64).\n",
      "  return f(**kwargs)\n",
      "127.0.0.1 - - [06/Apr/2021 21:35:21] \"\u001b[37mPOST /post HTTP/1.1\u001b[0m\" 200 -\n",
      "[2]\n",
      "127.0.0.1 - - [06/Apr/2021 21:35:56] \"\u001b[37mGET /get?msg=yes HTTP/1.1\u001b[0m\" 200 -\n",
      "[{'intent': 'yes', 'probability': '0.99999964'}]\n",
      "yes\n",
      "yes\n",
      "Please give me a more precise answer\n",
      "127.0.0.1 - - [06/Apr/2021 21:36:03] \"\u001b[37mGET /get?msg=yes HTTP/1.1\u001b[0m\" 200 -\n",
      "[{'intent': 'yes', 'probability': '0.99999964'}]\n",
      "yes\n",
      "yes\n",
      "Please give me a more precise answer\n",
      "C:\\Users\\Detail\\anaconda3\\envs\\chat_bot\\lib\\site-packages\\sklearn\\utils\\validation.py:72: FutureWarning: Beginning in version 0.22, arrays of bytes/strings will be converted to decimal numbers if dtype='numeric'. It is recommended that you convert the array to a float dtype before using it in scikit-learn, for example by using your_array = your_array.astype(np.float64).\n",
      "  return f(**kwargs)\n",
      "C:\\Users\\Detail\\anaconda3\\envs\\chat_bot\\lib\\site-packages\\sklearn\\utils\\validation.py:72: FutureWarning: Beginning in version 0.22, arrays of bytes/strings will be converted to decimal numbers if dtype='numeric'. It is recommended that you convert the array to a float dtype before using it in scikit-learn, for example by using your_array = your_array.astype(np.float64).\n",
      "  return f(**kwargs)\n",
      "127.0.0.1 - - [06/Apr/2021 21:36:21] \"\u001b[37mPOST /post HTTP/1.1\u001b[0m\" 200 -\n",
      "[2]\n"
     ]
    }
   ],
   "source": [
    "app = Flask(__name__)\n",
    "app.static_folder = 'static'\n",
    "\n",
    "@app.route(\"/\")\n",
    "def home():\n",
    "    return render_template(\"index.html\")\n",
    "\n",
    "@app.route(\"/get\")\n",
    "def get_bot_response():\n",
    "# def classify():\n",
    "    \n",
    "    userText = request.args.get('msg')\n",
    "    return jsonify(chatbot_response(userText))\n",
    "    # return str()\n",
    "    # return str(\"Hello\")\n",
    "\n",
    "@app.route(\"/post\",methods = ['POST'])\n",
    "def post_bot_response():\n",
    "# def classify():\n",
    "    \n",
    "    userText = request.form.get('msg')\n",
    "    return str(chatbot_prediction(userText)[0])   \n",
    "\n",
    "if __name__ == \"__main__\":\n",
    "    app.run() "
   ]
  },
  {
   "cell_type": "code",
   "execution_count": null,
   "metadata": {},
   "outputs": [],
   "source": []
  }
 ]
}