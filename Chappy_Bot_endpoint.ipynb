{
 "metadata": {
  "language_info": {
   "codemirror_mode": {
    "name": "ipython",
    "version": 3
   },
   "file_extension": ".py",
   "mimetype": "text/x-python",
   "name": "python",
   "nbconvert_exporter": "python",
   "pygments_lexer": "ipython3",
   "version": "3.6.10-final"
  },
  "orig_nbformat": 2,
  "kernelspec": {
   "name": "python_defaultSpec_1599648678766",
   "display_name": "Python 3.6.10 64-bit ('chat_bot': conda)"
  }
 },
 "nbformat": 4,
 "nbformat_minor": 2,
 "cells": [
  {
   "cell_type": "code",
   "execution_count": 1,
   "metadata": {},
   "outputs": [],
   "source": [
    "import nltk\n",
    "from nltk.stem.lancaster import LancasterStemmer\n",
    "stemmer = LancasterStemmer()\n",
    "\n",
    "from flask_cors import CORS, cross_origin\n",
    "from flask import Flask, jsonify, request\n",
    "from flask import Flask, render_template, request\n",
    "from keras.models import load_model\n",
    "from keras.optimizers import SGD\n",
    "\n",
    "\n",
    "import tensorflow as tf\n",
    "from tensorflow import keras\n",
    "from tensorflow.python.framework import ops\n",
    "import numpy as np\n",
    "import pandas as pd\n",
    "import pickle\n",
    "import json\n",
    "import random\n",
    "\n"
   ]
  },
  {
   "cell_type": "code",
   "execution_count": 2,
   "metadata": {},
   "outputs": [],
   "source": [
    "data = pickle.load(open( \"chappy-bot-data.pkl\", \"rb\"))\n",
    "words = data['words']\n",
    "classes = data['classes']\n",
    "train_x = data['train_x']\n",
    "train_y = data ['train_y']\n",
    "\n",
    "with open('intents.json') as json_data:\n",
    "    intents = json.load(json_data)\n",
    "# model = load_model('chappy-bot-model.h5')"
   ]
  },
  {
   "cell_type": "code",
   "execution_count": 3,
   "metadata": {},
   "outputs": [],
   "source": [
    "model = keras.Sequential()\n",
    "model.add(keras.layers.Dense(128, input_shape=(len (train_x[0]),), activation ='relu'))\n",
    "model.add(keras.layers.Dropout(0.5))\n",
    "model.add(keras.layers.Dense(64, activation='relu'))\n",
    "model.add(keras.layers.Dropout(0.5))\n",
    "model.add(keras.layers.Dense(len(train_y[0]), activation='softmax'))\n",
    "\n",
    "sgd = SGD(lr=0.01, decay=1e-6, momentum=0.9, nesterov=True)\n",
    "model.compile(loss='categorical_crossentropy', optimizer=sgd, metrics=['accuracy'])"
   ]
  },
  {
   "cell_type": "code",
   "execution_count": 4,
   "metadata": {},
   "outputs": [],
   "source": [
    "def clean_up_sentence(sentence):\n",
    "    sentence_words = nltk.word_tokenize(sentence)\n",
    "    sentence_words = [stemmer.stem(word.lower()) for word in sentence_words]\n",
    "    return sentence_words\n",
    "\n",
    "\n",
    "def bow(sentence, words, show_details=True):\n",
    "    sentence_words = clean_up_sentence(sentence)\n",
    "    bag = [0] * len(words)\n",
    "\n",
    "    for s in sentence_words: \n",
    "        for i, w in enumerate(words):\n",
    "            if w == s:\n",
    "                bag[i] = 1\n",
    "                if show_details:\n",
    "                    print(\"found in bag: %s\" % w)\n",
    "    return (np.array(bag))"
   ]
  },
  {
   "cell_type": "code",
   "execution_count": 5,
   "metadata": {},
   "outputs": [],
   "source": [
    "def predict_class(sentence, model):\n",
    "    p = bow (sentence, words,show_details=False)\n",
    "    res = model.predict(np.array([p])) [0]\n",
    "    ERROR_THRESHOLD = 0.25\n",
    "    results = [[i,r] for i,r in enumerate(res) if r>ERROR_THRESHOLD]\n",
    "    results.sort(key=lambda x: x[1], reverse=True)\n",
    "    return_list = []\n",
    "    for r in results:\n",
    "        return_list.append({\"intent\": classes[r[0]], \"probability\": str(r[1])})\n",
    "        return return_list\n"
   ]
  },
  {
   "cell_type": "code",
   "execution_count": 6,
   "metadata": {
    "tags": []
   },
   "outputs": [
    {
     "output_type": "stream",
     "name": "stdout",
     "text": "found in bag: i\nfound in bag: lov\nfound in bag: you\n[0 0 0 0 0 0 0 0 0 0 0 0 0 0 0 0 0 0 0 0 0 0 0 0 0 0 0 0 0 0 0 0 0 0 0 0 0\n 0 0 0 0 0 0 0 0 0 0 0 0 0 0 1 0 0 0 0 0 0 0 0 1 0 0 0 0 0 0 0 0 0 0 0 0 0\n 0 0 0 0 0 0 0 0 0 0 0 0 0 0 0 0 0 0 0 0 0 0 0 0 1]\n['Hate', 'None', 'age', 'banter', 'body-pain', 'breathing', 'cough', 'diarrhoea', 'fever', 'goodbye', 'greeting', 'headache', 'name', 'nasal', 'noanswer', 'options', 'sore-throat', 'thanks', 'tiredness', 'unknown', 'vomit', 'yes']\n"
    }
   ],
   "source": [
    "p = bow(\"I love you\", words)\n",
    "print(p)\n",
    "print(classes)"
   ]
  },
  {
   "cell_type": "code",
   "execution_count": 7,
   "metadata": {},
   "outputs": [],
   "source": [
    "global graph\n",
    "graph = ops.get_default_graph()\n",
    "\n",
    "with open(f'chappy-bot-model.h5', 'rb') as f:\n",
    "    model = keras.models.load_model('chappy-bot-model.h5')"
   ]
  },
  {
   "cell_type": "code",
   "execution_count": 8,
   "metadata": {},
   "outputs": [],
   "source": [
    "#  coughQuestionAsked = False\n",
    "#  feverQuestionAsked = False\n",
    "#  tirednessQuestionAsked = False\n",
    "#  difficultyInBreathingQuestinAsked = False\n",
    "#  noneResponse = False\n",
    "\n",
    "#  hasCough = False\n",
    "#  hasFever = False\n",
    "#  hasTiredness = False\n",
    "#  hasDifficultyInBreathing = False\n",
    "#  hasNone = False"
   ]
  },
  {
   "cell_type": "code",
   "execution_count": 9,
   "metadata": {},
   "outputs": [],
   "source": [
    "# def assessmentCheck(response):\n",
    "\n",
    "    # global coughQuestionAsked, feverQuestionAsked, tirednessQuestionAsked, difficultyInBreathingQuestinAsked, hasCough, hasFever, hasTiredness, hasDifficultyInBreathing, noneResponse, hasNone\n",
    "    \n",
    "    # feedback = \"continue\"\n",
    "    # if coughQuestionAsked == False or feverQuestionAsked == False or tirednessQuestionAsked == False or difficultyInBreathingQuestinAsked == False or noneResponse == False:\n",
    "    #     if response == 'cough':\n",
    "    #         coughQuestionAsked = True\n",
    "    #         hasCough = True\n",
    "    #         feedback = \"Which of these other symptoms do you have: Fever, Tiredness, Difficulty in Breathing\"\n",
    "\n",
    "    #     if response == 'Fever':\n",
    "    #         feverQuestionAsked = True\n",
    "    #         hasFever = True\n",
    "    #         feedback = \"Which of these other symptoms do you have: Cough, Tiredness, Difficulty in Breathing\"\n",
    "            \n",
    "    #     if response == 'Tiredness':\n",
    "    #         tirednessQuestionAsked == True\n",
    "    #         hasTiredness = True\n",
    "    #         feedback = \"Which of these other symptoms do you have: Cough, Fever, Difficulty in Breathing\"\n",
    "\n",
    "    #     if response == 'Difficulty in breathing':\n",
    "    #         difficultyInBreathingQuestinAsked == True\n",
    "    #         hasDifficultyInBreathing = True\n",
    "    #         feedback = \"Which of these other symptoms do you have: Cough, Fever, Tiredness\"\n",
    "\n",
    "    #     if response == 'None':\n",
    "    #         noneResponse = True\n",
    "    #         hasNone = True\n",
    "    #         feedback = \"Great\"\n",
    "\n",
    "\n",
    "    # if hasCough == True and hasFever == True and hasTiredness == True and hasDifficultyInBreathing == True:\n",
    "    #     feedback = \"Warning!!! You might have covid. Go for test Immediately - High risk 4\"\n",
    "    # if hasCough == True and hasFever == True and hasTiredness == True and hasDifficultyInBreathing ==  False:\n",
    "    #     feedback = \"Warning!!! You might have covid. Go for test Immediately high risk 4\"\n",
    "    # if hasCough == True and hasFever == True and hasTiredness == False and hasDifficultyInBreathing == True:\n",
    "    #     feedback = \"Warning!!! You might have covid. Go for test Immediately high risk 4\"\n",
    "    # if hasCough == True and hasFever == False and hasTiredness == True and hasDifficultyInBreathing == True:\n",
    "    #     feedback = \"Warning!!! You might have covid. Go for test Immediately high risk 4\"\n",
    "    # if hasCough == False and hasFever == True and hasTiredness == True and hasDifficultyInBreathing == True:\n",
    "    #     feedback = \"Warning!!! You might have covid. Go for test Immediately high risk 4\"\n",
    "    # if hasCough == True and hasFever == True and hasTiredness == False and hasDifficultyInBreathing == False:\n",
    "    #     feedback = \"Cough and Fever are strong symptoms of the COVID-19 disease. I advise you to stay at home and self-isolate\"\n",
    "    # if hasCough == True and hasFever == False and hasTiredness == True and hasDifficultyInBreathing == False:\n",
    "    #     feedback = \"Cough and Tiredness are strong symptoms of the COVID-19 disease. I advise you to stay at home and self-isolate\"\n",
    "    # if hasCough == True and hasFever == False and hasTiredness == False and hasDifficultyInBreathing == True:\n",
    "    #     feedback = \"Cough and Difficulty in Breathing are strong symptoms of the COVID-19 disease. I advise you to stay at home and self-isolate\"\n",
    "    # if hasCough == False and hasFever == True and hasTiredness == True and hasDifficultyInBreathing == False:\n",
    "    #     feedback = \"Fever and Tiredness are strong symptoms of the COVID-19 disease. I advise you to stay at home and self-isolate\"\n",
    "    # if hasCough == False and hasFever == True and hasTiredness == False and hasDifficultyInBreathing == True:\n",
    "    #     feedback = \"Fever and Difficulty in Breathing are strong symptoms of the COVID-19 disease. I advise you to stay at home and self-isolate\"\n",
    "    # if hasCough == False and hasFever == False and hasTiredness == True and hasDifficultyInBreathing == True:\n",
    "    #     feedback = \"Tiredness and Difficulty in Breathing are strong symptoms of the COVID-19 disease. I advise you to stay at home and self-isolate\"\n",
    "    \n",
    "    # if hasCough == True and hasNone == True:\n",
    "    #     feedback = \"Sometimes Coughs could be a little bother. Wear your Face Mask while in the college at all times and see a Pharmacist.\"\n",
    "    # if hasFever == True and hasNone == True:\n",
    "    #     feedback = \"Sorry about the Fever. I advise you stay at home and call a Doctor.\"\n",
    "    # if hasTiredness == True and hasNone == True:\n",
    "    #     feedback =\"Sometimes I get binary tired too. I advise you stay at home and call a Doctor.\"\n",
    "    # if hasDifficultyInBreathing == True and hasNone == True:\n",
    "    #     feedback = \"Sometimes I also find it hard to breath with all these algorithm processing. But, I advise you wear a Face Mask while in the college at all times and see a Pharmacist.\"\n",
    "\n",
    "    # return feedback\n"
   ]
  },
  {
   "cell_type": "code",
   "execution_count": 10,
   "metadata": {},
   "outputs": [],
   "source": [
    "\n",
    "\n",
    "def getResponse(ints, intents_json):\n",
    "    responseArray = []\n",
    "    tag = ints[0] ['intent']\n",
    "    list_of_intents = intents_json['intents']\n",
    "    for i in list_of_intents:\n",
    "        if (i ['tag'] == tag):\n",
    "            responseArray.append(tag);\n",
    "            print(i['tag'])\n",
    "            print(tag)\n",
    "            \n",
    "            result = random.choice(i['responses'])\n",
    "            responseArray.append(result);\n",
    "\n",
    "            # feed = \"continue\"\n",
    "            # if i['tag']== \"cough\" or i['tag']== \"Fever\" or i['tag']==\"Tiredness\" or i['tag']==\"Difficulty in breathing\" or i['tag']==\"None\":\n",
    "            #     feed = assessmentCheck(i['tag'])\n",
    "\n",
    "            # if feed != \"continue\":\n",
    "            #     result = feed\n",
    "           \n",
    "            print (result)\n",
    "            break\n",
    "    \n",
    "    \n",
    "    \n",
    "    return responseArray\n",
    "\n",
    "\n",
    "\n",
    "def chatbot_response(text):\n",
    "    ints = predict_class(text, model)\n",
    "    print(ints)\n",
    "    res = getResponse (ints, intents)\n",
    "    return res\n",
    "\n",
    "def chatbot_prediction(text):\n",
    "\n",
    "    predict_list = text.split(',')\n",
    "    predict_test = [predict_list]\n",
    "    loaded_model = pickle.load(open('knnpickle_file', 'rb'))\n",
    "    result = loaded_model.predict(predict_test) \n",
    "    print(result)\n",
    "\n",
    "    return result\n",
    "\n",
    "\n"
   ]
  },
  {
   "cell_type": "code",
   "execution_count": 11,
   "metadata": {},
   "outputs": [
    {
     "output_type": "execute_result",
     "data": {
      "text/plain": "[{'intent': 'Hate', 'probability': '1.0'}]"
     },
     "metadata": {},
     "execution_count": 11
    }
   ],
   "source": [
    "predict_class('I hate you', model)"
   ]
  },
  {
   "cell_type": "code",
   "execution_count": 12,
   "metadata": {},
   "outputs": [
    {
     "output_type": "execute_result",
     "data": {
      "text/plain": "[{'intent': 'greeting', 'probability': '1.0'}]"
     },
     "metadata": {},
     "execution_count": 12
    }
   ],
   "source": [
    "predict_class('Hello', model)"
   ]
  },
  {
   "cell_type": "code",
   "execution_count": 13,
   "metadata": {},
   "outputs": [
    {
     "output_type": "execute_result",
     "data": {
      "text/plain": "[{'intent': 'cough', 'probability': '1.0'}]"
     },
     "metadata": {},
     "execution_count": 13
    }
   ],
   "source": [
    "predict_class('I have a cough', model)"
   ]
  },
  {
   "cell_type": "code",
   "execution_count": 14,
   "metadata": {},
   "outputs": [
    {
     "output_type": "execute_result",
     "data": {
      "text/plain": "[{'intent': 'cough', 'probability': '1.0'}]"
     },
     "metadata": {},
     "execution_count": 14
    }
   ],
   "source": [
    "predict_class('Yes, I have a cough', model)"
   ]
  },
  {
   "cell_type": "code",
   "execution_count": 15,
   "metadata": {},
   "outputs": [
    {
     "output_type": "execute_result",
     "data": {
      "text/plain": "[{'intent': 'unknown', 'probability': '0.60411906'}]"
     },
     "metadata": {},
     "execution_count": 15
    }
   ],
   "source": [
    "predict_class('now', model)"
   ]
  },
  {
   "cell_type": "code",
   "execution_count": 16,
   "metadata": {
    "tags": []
   },
   "outputs": [
    {
     "output_type": "stream",
     "name": "stdout",
     "text": "* Serving Flask app \"__main__\" (lazy loading)\n * Environment: production\n   WARNING: This is a development server. Do not use it in a production deployment.\n   Use a production WSGI server instead.\n * Debug mode: off\n * Running on http://127.0.0.1:5000/ (Press CTRL+C to quit)\n127.0.0.1 - - [09/Sep/2020 11:56:52] \"\u001b[37mGET /static/styles/style.css HTTP/1.1\u001b[0m\" 200 -\n127.0.0.1 - - [09/Sep/2020 11:56:59] \"\u001b[37mGET /get?msg=Hello HTTP/1.1\u001b[0m\" 200 -\n[{'intent': 'greeting', 'probability': '1.0'}]\ngreeting\ngreeting\nHi there, how can I help?\n[2020-09-09 11:57:03,167] ERROR in app: Exception on /get [GET]\nTraceback (most recent call last):\n  File \"C:\\Users\\Detail\\anaconda3\\envs\\chat_bot\\lib\\site-packages\\flask\\app.py\", line 2447, in wsgi_app\n    response = self.full_dispatch_request()\n  File \"C:\\Users\\Detail\\anaconda3\\envs\\chat_bot\\lib\\site-packages\\flask\\app.py\", line 1952, in full_dispatch_request\n    rv = self.handle_user_exception(e)\n  File \"C:\\Users\\Detail\\anaconda3\\envs\\chat_bot\\lib\\site-packages\\flask\\app.py\", line 1821, in handle_user_exception\n    reraise(exc_type, exc_value, tb)\n  File \"C:\\Users\\Detail\\anaconda3\\envs\\chat_bot\\lib\\site-packages\\flask\\_compat.py\", line 39, in reraise\n    raise value\n  File \"C:\\Users\\Detail\\anaconda3\\envs\\chat_bot\\lib\\site-packages\\flask\\app.py\", line 1950, in full_dispatch_request\n    rv = self.dispatch_request()\n  File \"C:\\Users\\Detail\\anaconda3\\envs\\chat_bot\\lib\\site-packages\\flask\\app.py\", line 1936, in dispatch_request\n    return self.view_functions[rule.endpoint](**req.view_args)\n  File \"<ipython-input-16-bd2f4e6181c3>\", line 13, in get_bot_response\n    return jsonify(chatbot_response(userText))\n  File \"<ipython-input-10-af51d231f543>\", line 33, in chatbot_response\n    res = getResponse (ints, intents)\n  File \"<ipython-input-10-af51d231f543>\", line 16, in getResponse\n    feed = assessmentCheck(i['tag'])\nNameError: name 'assessmentCheck' is not defined\n127.0.0.1 - - [09/Sep/2020 11:57:03] \"\u001b[35m\u001b[1mGET /get?msg=I%20have%20cough HTTP/1.1\u001b[0m\" 500 -\n[{'intent': 'cough', 'probability': '1.0'}]\ncough\ncough\n"
    }
   ],
   "source": [
    "app = Flask(__name__)\n",
    "app.static_folder = 'static'\n",
    "\n",
    "@app.route(\"/\")\n",
    "def home():\n",
    "    return render_template(\"index.html\")\n",
    "\n",
    "@app.route(\"/get\")\n",
    "def get_bot_response():\n",
    "# def classify():\n",
    "    \n",
    "    userText = request.args.get('msg')\n",
    "    return jsonify(chatbot_response(userText))\n",
    "    # return str()\n",
    "    # return str(\"Hello\")\n",
    "\n",
    "@app.route(\"/post\",methods = ['POST'])\n",
    "def post_bot_response():\n",
    "# def classify():\n",
    "    \n",
    "    userText = request.form.get('msg')\n",
    "    return str(chatbot_prediction(userText)[0])   \n",
    "\n",
    "if __name__ == \"__main__\":\n",
    "    app.run() "
   ]
  },
  {
   "cell_type": "code",
   "execution_count": null,
   "metadata": {},
   "outputs": [],
   "source": []
  }
 ]
}