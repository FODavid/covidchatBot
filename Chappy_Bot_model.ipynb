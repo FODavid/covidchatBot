{
 "cells": [
  {
   "cell_type": "code",
   "execution_count": 25,
   "metadata": {
    "tags": []
   },
   "outputs": [],
   "source": [
    "import nltk\n",
    "from nltk.stem.lancaster import LancasterStemmer\n",
    "stemmer = LancasterStemmer()\n",
    "\n",
    "import numpy as np\n",
    "import tensorflow as tf\n",
    "from tensorflow import keras\n",
    "from keras.models import Sequential\n",
    "from keras.layers import Dense, Activation, Dropout\n",
    "from keras.optimizers import SGD\n",
    "import pandas as pd\n",
    "import pickle\n",
    "import random\n",
    "import tempfile\n"
   ]
  },
  {
   "cell_type": "code",
   "execution_count": 26,
   "metadata": {
    "tags": []
   },
   "outputs": [],
   "source": [
    "import json\n",
    "with open('intents.json') as json_data:\n",
    "    intents = json.load(json_data)\n"
   ]
  },
  {
   "cell_type": "code",
   "execution_count": 27,
   "metadata": {
    "tags": []
   },
   "outputs": [
    {
     "output_type": "stream",
     "name": "stdout",
     "text": "1 documents\n1 classes ['unknown']\n1 unique stemmed words ['jbjkbk']\n7 documents\n2 classes ['greeting', 'unknown']\n6 unique stemmed words ['126889', 'hi', 'jbjkbk', 'kdd', 'kjbh', 'ljhh']\n13 documents\n3 classes ['goodbye', 'greeting', 'unknown']\n19 unique stemmed words ['126889', '?', 'anyon', 'ar', 'cya', 'day', 'good', 'hello', 'hi', 'how', 'is', 'jbjkbk', 'kdd', 'kjbh', 'ljhh', 'ther', 'up', 'what', 'you']\n18 documents\n4 classes ['age', 'goodbye', 'greeting', 'unknown']\n28 unique stemmed words ['126889', '?', 'a', 'am', 'anyon', 'ar', 'cya', 'day', 'good', 'goodby', 'hav', 'hello', 'hi', 'how', 'i', 'is', 'jbjkbk', 'kdd', 'kjbh', 'lat', 'leav', 'ljhh', 'old', 'see', 'ther', 'up', 'what', 'you']\n23 documents\n5 classes ['age', 'goodbye', 'greeting', 'name', 'unknown']\n32 unique stemmed words ['126889', '?', 'a', 'ag', 'am', 'anyon', 'ar', 'cya', 'day', 'good', 'goodby', 'hav', 'hello', 'hi', 'how', 'i', 'is', 'jbjkbk', 'kdd', 'kjbh', 'lat', 'leav', 'ljhh', 'nam', 'old', 'see', 'ther', 'tim', 'up', 'what', 'yo', 'you']\n26 documents\n6 classes ['age', 'goodbye', 'greeting', 'name', 'thanks', 'unknown']\n35 unique stemmed words ['126889', '?', 'a', 'ag', 'am', 'anyon', 'ar', 'cal', 'cya', 'day', 'good', 'goodby', 'hav', 'hello', 'hi', 'how', 'i', 'is', 'jbjkbk', 'kdd', 'kjbh', 'lat', 'leav', 'ljhh', 'nam', 'old', 'see', 'should', 'thank', 'ther', 'tim', 'up', 'what', 'yo', 'you']\n31 documents\n7 classes ['age', 'goodbye', 'greeting', 'name', 'noanswer', 'thanks', 'unknown']\n42 unique stemmed words [\"'s\", ',', '126889', '?', 'a', 'ag', 'am', 'anyon', 'ar', 'awesom', 'cal', 'cya', 'day', 'for', 'good', 'goodby', 'hav', 'hello', 'help', 'hi', 'how', 'i', 'is', 'jbjkbk', 'kdd', 'kjbh', 'lat', 'leav', 'ljhh', 'me', 'nam', 'old', 'see', 'should', 'thank', 'that', 'ther', 'tim', 'up', 'what', 'yo', 'you']\n34 documents\n8 classes ['age', 'goodbye', 'greeting', 'name', 'noanswer', 'options', 'thanks', 'unknown']\n51 unique stemmed words ['#', '$', '%', '&', \"'s\", '*', ',', '...', '126889', ':', '?', '@', 'a', 'ag', 'am', 'anyon', 'ar', 'awesom', 'cal', 'could', 'cya', 'day', 'for', 'good', 'goodby', 'hav', 'hello', 'help', 'hi', 'how', 'i', 'is', 'jbjkbk', 'kdd', 'kjbh', 'lat', 'leav', 'ljhh', 'me', 'nam', 'old', 'see', 'should', 'thank', 'that', 'ther', 'tim', 'up', 'what', 'yo', 'you']\n39 documents\n9 classes ['Hate', 'age', 'goodbye', 'greeting', 'name', 'noanswer', 'options', 'thanks', 'unknown']\n58 unique stemmed words ['#', '$', '%', '&', \"'s\", '*', ',', '...', '126889', ':', '?', '@', 'a', 'ag', 'am', 'anyon', 'ar', 'awesom', 'be', 'cal', 'can', 'could', 'cya', 'day', 'do', 'for', 'good', 'goodby', 'hav', 'hello', 'help', 'hi', 'how', 'i', 'is', 'jbjkbk', 'kdd', 'kjbh', 'lat', 'leav', 'ljhh', 'me', 'nam', 'off', 'old', 'provid', 'see', 'should', 'suck', 'support', 'thank', 'that', 'ther', 'tim', 'up', 'what', 'yo', 'you']\n43 documents\n10 classes ['Hate', 'age', 'banter', 'goodbye', 'greeting', 'name', 'noanswer', 'options', 'thanks', 'unknown']\n63 unique stemmed words ['#', '$', '%', '&', \"'s\", '*', ',', '...', '126889', ':', '?', '@', 'a', 'ag', 'am', 'anyon', 'ar', 'awesom', 'be', 'cal', 'can', 'could', 'cya', 'day', 'do', 'for', 'good', 'goodby', 'hat', 'hav', 'hello', 'help', 'hi', 'horr', 'how', 'i', 'is', 'jbjkbk', 'kdd', 'kjbh', 'lat', 'leav', 'ljhh', 'marry', 'me', 'nam', 'off', 'old', 'provid', 'see', 'should', 'suck', 'support', 'thank', 'that', 'ther', 'tim', 'up', 'useless', 'what', 'wil', 'yo', 'you']\n45 documents\n11 classes ['Hate', 'age', 'banter', 'cough', 'goodbye', 'greeting', 'name', 'noanswer', 'options', 'thanks', 'unknown']\n65 unique stemmed words ['#', '$', '%', '&', \"'s\", '*', ',', '...', '126889', ':', '?', '@', 'a', 'ag', 'am', 'anyon', 'ar', 'awesom', 'be', 'cal', 'can', 'cough', 'could', 'cya', 'day', 'do', 'for', 'good', 'goodby', 'hat', 'hav', 'hello', 'help', 'hi', 'hor', 'how', 'i', 'is', 'jbjkbk', 'kdd', 'kjbh', 'lat', 'leav', 'ljhh', 'lov', 'marry', 'me', 'nam', 'off', 'old', 'provid', 'see', 'should', 'suck', 'support', 'thank', 'that', 'ther', 'tim', 'up', 'useless', 'what', 'wil', 'yo', 'you']\n53 documents\n12 classes ['Hate', 'age', 'banter', 'cough', 'fever', 'goodbye', 'greeting', 'name', 'noanswer', 'options', 'thanks', 'unknown']\n68 unique stemmed words ['#', '$', '%', '&', \"'s\", '*', ',', '...', '126889', ':', '?', '@', 'a', 'ag', 'also', 'am', 'anyon', 'ar', 'awesom', 'be', 'cal', 'can', 'cough', 'could', 'cya', 'day', 'do', 'fev', 'for', 'good', 'goodby', 'hat', 'hav', 'hello', 'help', 'hi', 'hor', 'how', 'i', 'is', 'jbjkbk', 'kdd', 'kjbh', 'lat', 'leav', 'ljhh', 'lov', 'marry', 'me', 'nam', 'off', 'old', 'provid', 'see', 'should', 'suck', 'support', 'thank', 'that', 'ther', 'tim', 'up', 'useless', 'what', 'wil', 'ye', 'yo', 'you']\n61 documents\n13 classes ['Hate', 'age', 'banter', 'cough', 'fever', 'goodbye', 'greeting', 'name', 'noanswer', 'options', 'thanks', 'tiredness', 'unknown']\n70 unique stemmed words ['#', '$', '%', '&', \"'s\", '*', ',', '...', '126889', ':', '?', '@', 'a', 'ag', 'also', 'am', 'anyon', 'ar', 'awesom', 'be', 'cal', 'can', 'cough', 'could', 'cya', 'day', 'do', 'feel', 'fev', 'for', 'good', 'goodby', 'hat', 'hav', 'hello', 'help', 'hi', 'hor', 'how', 'i', 'is', 'jbjkbk', 'kdd', 'kjbh', 'lat', 'leav', 'ljhh', 'lov', 'marry', 'me', 'nam', 'off', 'old', 'provid', 'see', 'should', 'suck', 'support', 'thank', 'that', 'ther', 'tim', 'tir', 'up', 'useless', 'what', 'wil', 'ye', 'yo', 'you']\n70 documents\n14 classes ['Hate', 'age', 'banter', 'breathing', 'cough', 'fever', 'goodbye', 'greeting', 'name', 'noanswer', 'options', 'thanks', 'tiredness', 'unknown']\n73 unique stemmed words ['#', '$', '%', '&', \"'s\", '*', ',', '...', '126889', ':', '?', '@', 'a', 'ag', 'also', 'am', 'anyon', 'ar', 'awesom', 'be', 'breath', 'cal', 'can', 'cough', 'could', 'cya', 'day', 'difficul', 'do', 'feel', 'fev', 'for', 'good', 'goodby', 'hat', 'hav', 'hello', 'help', 'hi', 'hor', 'how', 'i', 'in', 'is', 'jbjkbk', 'kdd', 'kjbh', 'lat', 'leav', 'ljhh', 'lov', 'marry', 'me', 'nam', 'off', 'old', 'provid', 'see', 'should', 'suck', 'support', 'thank', 'that', 'ther', 'tim', 'tir', 'up', 'useless', 'what', 'wil', 'ye', 'yo', 'you']\n76 documents\n15 classes ['Hate', 'age', 'banter', 'breathing', 'cough', 'fever', 'goodbye', 'greeting', 'name', 'nasal', 'noanswer', 'options', 'thanks', 'tiredness', 'unknown']\n78 unique stemmed words ['#', '$', '%', '&', \"'s\", '*', ',', '...', '126889', ':', '?', '@', 'a', 'ag', 'also', 'am', 'anyon', 'ar', 'awesom', 'be', 'brea', 'breath', 'cal', 'can', 'congest', 'cough', 'could', 'cya', 'day', 'diffic', 'difficul', 'do', 'feel', 'fev', 'for', 'good', 'goodby', 'hat', 'hav', 'hello', 'help', 'hi', 'hor', 'how', 'i', 'in', 'is', 'jbjkbk', 'kdd', 'kjbh', 'lat', 'leav', 'ljhh', 'lov', 'marry', 'me', 'nam', 'nas', 'off', 'old', 'provid', 'see', 'short', 'should', 'suck', 'support', 'thank', 'that', 'ther', 'tim', 'tir', 'up', 'useless', 'what', 'wil', 'ye', 'yo', 'you']\n81 documents\n16 classes ['Hate', 'age', 'banter', 'breathing', 'cough', 'fever', 'goodbye', 'greeting', 'name', 'nasal', 'noanswer', 'options', 'thanks', 'tiredness', 'unknown', 'vomit']\n79 unique stemmed words ['#', '$', '%', '&', \"'s\", '*', ',', '...', '126889', ':', '?', '@', 'a', 'ag', 'also', 'am', 'anyon', 'ar', 'awesom', 'be', 'bre', 'brea', 'cal', 'can', 'congest', 'cough', 'could', 'cya', 'day', 'diff', 'diffic', 'do', 'feel', 'fev', 'for', 'good', 'goodby', 'hat', 'hav', 'hello', 'help', 'hi', 'hor', 'how', 'i', 'in', 'is', 'jbjkbk', 'kdd', 'kjbh', 'lat', 'leav', 'ljhh', 'lov', 'marry', 'me', 'nam', 'nas', 'off', 'old', 'provid', 'see', 'short', 'should', 'suck', 'support', 'thank', 'that', 'ther', 'tim', 'tir', 'up', 'useless', 'vomit', 'what', 'wil', 'ye', 'yo', 'you']\n85 documents\n17 classes ['Hate', 'age', 'banter', 'breathing', 'cough', 'fever', 'goodbye', 'greeting', 'name', 'nasal', 'noanswer', 'options', 'sore-throat', 'thanks', 'tiredness', 'unknown', 'vomit']\n79 unique stemmed words ['#', '$', '%', '&', \"'s\", '*', ',', '...', '126889', ':', '?', '@', 'a', 'ag', 'also', 'am', 'anyon', 'ar', 'awesom', 'be', 'bre', 'cal', 'can', 'congest', 'cough', 'could', 'cya', 'day', 'diff', 'do', 'feel', 'fev', 'for', 'good', 'goodby', 'hat', 'hav', 'hello', 'help', 'hi', 'hor', 'how', 'i', 'in', 'is', 'jbjkbk', 'kdd', 'kjbh', 'lat', 'leav', 'ljhh', 'lov', 'marry', 'me', 'nam', 'nas', 'off', 'old', 'provid', 'see', 'short', 'should', 'sor', 'suck', 'support', 'thank', 'that', 'ther', 'throat', 'tim', 'tir', 'up', 'useless', 'vomit', 'what', 'wil', 'ye', 'yo', 'you']\n90 documents\n18 classes ['Hate', 'age', 'banter', 'breathing', 'cough', 'fever', 'goodbye', 'greeting', 'headache', 'name', 'nasal', 'noanswer', 'options', 'sore-throat', 'thanks', 'tiredness', 'unknown', 'vomit']\n80 unique stemmed words ['#', '$', '%', '&', \"'s\", '*', ',', '...', '126889', ':', '?', '@', 'a', 'ag', 'also', 'am', 'anyon', 'ar', 'awesom', 'be', 'bre', 'cal', 'can', 'congest', 'cough', 'could', 'cya', 'day', 'diff', 'do', 'feel', 'fev', 'for', 'good', 'goodby', 'hat', 'hav', 'headach', 'hello', 'help', 'hi', 'hor', 'how', 'i', 'in', 'is', 'jbjkbk', 'kdd', 'kjbh', 'lat', 'leav', 'ljhh', 'lov', 'marry', 'me', 'nam', 'nas', 'off', 'old', 'provid', 'see', 'short', 'should', 'sor', 'suck', 'support', 'thank', 'that', 'ther', 'throat', 'tim', 'tir', 'up', 'useless', 'vomit', 'what', 'wil', 'ye', 'yo', 'you']\n95 documents\n19 classes ['Hate', 'age', 'banter', 'body-pain', 'breathing', 'cough', 'fever', 'goodbye', 'greeting', 'headache', 'name', 'nasal', 'noanswer', 'options', 'sore-throat', 'thanks', 'tiredness', 'unknown', 'vomit']\n82 unique stemmed words ['#', '$', '%', '&', \"'s\", '*', ',', '...', '126889', ':', '?', '@', 'a', 'ag', 'also', 'am', 'anyon', 'ar', 'awesom', 'be', 'body', 'bre', 'cal', 'can', 'congest', 'cough', 'could', 'cya', 'day', 'diff', 'do', 'feel', 'fev', 'for', 'good', 'goodby', 'hat', 'hav', 'headach', 'hello', 'help', 'hi', 'hor', 'how', 'i', 'in', 'is', 'jbjkbk', 'kdd', 'kjbh', 'lat', 'leav', 'ljhh', 'lov', 'marry', 'me', 'nam', 'nas', 'off', 'old', 'pain', 'provid', 'see', 'short', 'should', 'sor', 'suck', 'support', 'thank', 'that', 'ther', 'throat', 'tim', 'tir', 'up', 'useless', 'vomit', 'what', 'wil', 'ye', 'yo', 'you']\n101 documents\n20 classes ['Hate', 'age', 'banter', 'body-pain', 'breathing', 'cough', 'diarrhoea', 'fever', 'goodbye', 'greeting', 'headache', 'name', 'nasal', 'noanswer', 'options', 'sore-throat', 'thanks', 'tiredness', 'unknown', 'vomit']\n83 unique stemmed words ['#', '$', '%', '&', \"'s\", '*', ',', '...', '126889', ':', '?', '@', 'a', 'ag', 'also', 'am', 'anyon', 'ar', 'awesom', 'be', 'body', 'bre', 'cal', 'can', 'congest', 'cough', 'could', 'cya', 'day', 'diarrhoe', 'diff', 'do', 'feel', 'fev', 'for', 'good', 'goodby', 'hat', 'hav', 'headach', 'hello', 'help', 'hi', 'hor', 'how', 'i', 'in', 'is', 'jbjkbk', 'kdd', 'kjbh', 'lat', 'leav', 'ljhh', 'lov', 'marry', 'me', 'nam', 'nas', 'off', 'old', 'pain', 'provid', 'see', 'short', 'should', 'sor', 'suck', 'support', 'thank', 'that', 'ther', 'throat', 'tim', 'tir', 'up', 'useless', 'vomit', 'what', 'wil', 'ye', 'yo', 'you']\n106 documents\n21 classes ['Hate', 'None', 'age', 'banter', 'body-pain', 'breathing', 'cough', 'diarrhoea', 'fever', 'goodbye', 'greeting', 'headache', 'name', 'nasal', 'noanswer', 'options', 'sore-throat', 'thanks', 'tiredness', 'unknown', 'vomit']\n85 unique stemmed words ['#', '$', '%', '&', \"'s\", '*', ',', '...', '126889', ':', '?', '@', 'a', 'ag', 'also', 'am', 'anyon', 'ar', 'awesom', 'be', 'body', 'bre', 'cal', 'can', 'congest', 'cough', 'could', 'cya', 'day', 'diarrho', 'diarrhoe', 'diff', 'do', 'feel', 'fev', 'for', 'good', 'goodby', 'hat', 'hav', 'headach', 'hello', 'help', 'hi', 'hor', 'how', 'i', 'in', 'is', 'jbjkbk', 'kdd', 'kjbh', 'lat', 'leav', 'ljhh', 'lov', 'marry', 'me', 'nam', 'nas', 'non', 'off', 'old', 'pain', 'provid', 'see', 'short', 'should', 'sor', 'suck', 'support', 'thank', 'that', 'ther', 'throat', 'tim', 'tir', 'up', 'useless', 'vomit', 'what', 'wil', 'ye', 'yo', 'you']\n129 documents\n22 classes ['Hate', 'None', 'age', 'banter', 'body-pain', 'breathing', 'cough', 'diarrhoea', 'fever', 'goodbye', 'greeting', 'headache', 'name', 'nasal', 'noanswer', 'options', 'sore-throat', 'thanks', 'tiredness', 'unknown', 'vomit', 'yes']\n99 unique stemmed words ['#', '$', '%', '&', \"'s\", '*', ',', '...', '126889', ':', '?', '@', 'a', 'ag', 'also', 'am', 'any', 'anyon', 'ar', 'awesom', 'be', 'body', 'bre', 'breath', 'cal', 'can', 'congest', 'cough', 'could', 'cya', 'day', 'diarrho', 'diarrhoe', 'diff', 'difficul', 'do', 'dont', 'dry', 'feel', 'fev', 'for', 'good', 'goodby', 'hat', 'hav', 'headach', 'hello', 'help', 'hi', 'hor', 'how', 'i', 'in', 'is', 'jbjkbk', 'kdd', 'kjbh', 'lat', 'leav', 'ljhh', 'lov', 'marry', 'me', \"n't\", 'nam', 'nas', 'nev', 'no', 'non', 'nop', 'of', 'off', 'old', 'oth', 'pain', 'provid', 'see', 'short', 'should', 'sor', 'sore-throat', 'suck', 'support', 'symptom', 'thank', 'that', 'ther', 'thes', 'throat', 'tim', 'tir', 'up', 'useless', 'vomit', 'what', 'wil', 'ye', 'yo', 'you']\n"
    }
   ],
   "source": [
    "words = []\n",
    "classes = []\n",
    "documents = []\n",
    "ignore_words = []\n",
    "\n",
    "for intent in intents ['intents']:\n",
    "    for pattern in intent ['patterns']:\n",
    "        w = nltk.word_tokenize(pattern)\n",
    "        words.extend(w)\n",
    "        documents.append((w, intent['tag']))\n",
    "        if intent['tag'] not in classes:\n",
    "            classes.append(intent['tag'])\n",
    "\n",
    "            words = [stemmer.stem(w.lower()) for w in words if w not in ignore_words]\n",
    "            words = sorted(list(set(words)))\n",
    "            classes = sorted(list(set(classes)))\n",
    "            print(len(documents), \"documents\")\n",
    "            print (len(classes), \"classes\", classes)\n",
    "            print (len(words), \"unique stemmed words\", words)\n",
    "\n",
    "            pickle.dump(words, open('words.pkl', 'wb'))\n",
    "            pickle.dump(classes, open('classes.pkl', 'wb'))\n",
    "\n",
    "\n"
   ]
  },
  {
   "cell_type": "code",
   "execution_count": 28,
   "metadata": {
    "tags": []
   },
   "outputs": [
    {
     "output_type": "stream",
     "name": "stdout",
     "text": "Training data created\n"
    }
   ],
   "source": [
    "training = []\n",
    "output_empty = [0] * len(classes)\n",
    "\n",
    "for doc in documents:\n",
    "    bag = []\n",
    "    pattern_words = doc[0]\n",
    "    pattern_words = [stemmer.stem(word.lower()) for word in pattern_words]\n",
    "\n",
    "    for w in words:\n",
    "        bag.append(1) if w in pattern_words else bag.append(0)\n",
    "\n",
    "        output_row = list(output_empty)\n",
    "        output_row[classes.index(doc[1])] = 1\n",
    "\n",
    "        training.append([bag, output_row])\n",
    "\n",
    "random.shuffle(training)\n",
    "training = np.array(training)\n",
    "\n",
    "train_x = list(training[:, 0])\n",
    "train_y = list(training[:, 1])\n",
    "print (\"Training data created\")\n",
    "\n"
   ]
  },
  {
   "cell_type": "code",
   "execution_count": 29,
   "metadata": {},
   "outputs": [],
   "source": [
    "model = keras.Sequential()\n",
    "model.add(keras.layers.Dense(128, input_shape=(len (train_x[0]),), activation ='relu'))\n",
    "model.add(keras.layers.Dropout(0.5))\n",
    "model.add(keras.layers.Dense(64, activation='relu'))\n",
    "model.add(keras.layers.Dropout(0.5))\n",
    "model.add(keras.layers.Dense(len(train_y[0]), activation='softmax'))"
   ]
  },
  {
   "cell_type": "code",
   "execution_count": 30,
   "metadata": {
    "tags": []
   },
   "outputs": [
    {
     "output_type": "stream",
     "name": "stdout",
     "text": "Model: \"sequential_2\"\n_________________________________________________________________\nLayer (type)                 Output Shape              Param #   \n=================================================================\ndense_6 (Dense)              (None, 128)               12800     \n_________________________________________________________________\ndropout_4 (Dropout)          (None, 128)               0         \n_________________________________________________________________\ndense_7 (Dense)              (None, 64)                8256      \n_________________________________________________________________\ndropout_5 (Dropout)          (None, 64)                0         \n_________________________________________________________________\ndense_8 (Dense)              (None, 22)                1430      \n=================================================================\nTotal params: 22,486\nTrainable params: 22,486\nNon-trainable params: 0\n_________________________________________________________________\n"
    }
   ],
   "source": [
    "model.summary()"
   ]
  },
  {
   "cell_type": "code",
   "execution_count": 31,
   "metadata": {},
   "outputs": [],
   "source": [
    "sgd = SGD(lr=0.01, decay=1e-6, momentum=0.9, nesterov=True)\n",
    "model.compile(loss='categorical_crossentropy', optimizer=sgd, metrics=['accuracy'])"
   ]
  },
  {
   "cell_type": "code",
   "execution_count": 32,
   "metadata": {
    "tags": []
   },
   "outputs": [
    {
     "output_type": "stream",
     "name": "stdout",
     "text": "Epoch 1/50\n2555/2555 [==============================] - 8s 3ms/step - loss: 0.5517 - accuracy: 0.8408\nEpoch 2/50\n2555/2555 [==============================] - 8s 3ms/step - loss: 0.0910 - accuracy: 0.9720\nEpoch 3/50\n2555/2555 [==============================] - 8s 3ms/step - loss: 0.0580 - accuracy: 0.9801\nEpoch 4/50\n2555/2555 [==============================] - 8s 3ms/step - loss: 0.0516 - accuracy: 0.9816\nEpoch 5/50\n2555/2555 [==============================] - 9s 3ms/step - loss: 0.0424 - accuracy: 0.9848\nEpoch 6/50\n2555/2555 [==============================] - 8s 3ms/step - loss: 0.0413 - accuracy: 0.9839\nEpoch 7/50\n2555/2555 [==============================] - 8s 3ms/step - loss: 0.0322 - accuracy: 0.9876\nEpoch 8/50\n2555/2555 [==============================] - 8s 3ms/step - loss: 0.0369 - accuracy: 0.9848\nEpoch 9/50\n2555/2555 [==============================] - 8s 3ms/step - loss: 0.0360 - accuracy: 0.9856\nEpoch 10/50\n2555/2555 [==============================] - 8s 3ms/step - loss: 0.0318 - accuracy: 0.9860\nEpoch 11/50\n2555/2555 [==============================] - 8s 3ms/step - loss: 0.0309 - accuracy: 0.9870\nEpoch 12/50\n2555/2555 [==============================] - 9s 3ms/step - loss: 0.0319 - accuracy: 0.9858\nEpoch 13/50\n2555/2555 [==============================] - 8s 3ms/step - loss: 0.0294 - accuracy: 0.9872\nEpoch 14/50\n2555/2555 [==============================] - 8s 3ms/step - loss: 0.0275 - accuracy: 0.9872\nEpoch 15/50\n2555/2555 [==============================] - 9s 3ms/step - loss: 0.0252 - accuracy: 0.9878\nEpoch 16/50\n2555/2555 [==============================] - 9s 4ms/step - loss: 0.0248 - accuracy: 0.9879\nEpoch 17/50\n2555/2555 [==============================] - 8s 3ms/step - loss: 0.0247 - accuracy: 0.9886\nEpoch 18/50\n2555/2555 [==============================] - 8s 3ms/step - loss: 0.0288 - accuracy: 0.9877\nEpoch 19/50\n2555/2555 [==============================] - 8s 3ms/step - loss: 0.0278 - accuracy: 0.9873\nEpoch 20/50\n2555/2555 [==============================] - 8s 3ms/step - loss: 0.0245 - accuracy: 0.9894\nEpoch 21/50\n2555/2555 [==============================] - 8s 3ms/step - loss: 0.0235 - accuracy: 0.9890\nEpoch 22/50\n2555/2555 [==============================] - 9s 3ms/step - loss: 0.0258 - accuracy: 0.9883\nEpoch 23/50\n2555/2555 [==============================] - 8s 3ms/step - loss: 0.0233 - accuracy: 0.9888\nEpoch 24/50\n2555/2555 [==============================] - 8s 3ms/step - loss: 0.0216 - accuracy: 0.9894\nEpoch 25/50\n2543/2555 [============================>.] - ETA: 0s - loss: 0.0221 - accuracy: 0.982555/2555 [==============================] - 8s 3ms/step - loss: 0.0220 - accuracy: 0.9894\nEpoch 26/50\n2555/2555 [==============================] - 8s 3ms/step - loss: 0.0240 - accuracy: 0.9886\nEpoch 27/50\n2555/2555 [==============================] - 9s 3ms/step - loss: 0.0214 - accuracy: 0.9899\nEpoch 28/50\n2555/2555 [==============================] - 8s 3ms/step - loss: 0.0217 - accuracy: 0.9894\nEpoch 29/50\n2555/2555 [==============================] - 8s 3ms/step - loss: 0.0226 - accuracy: 0.9883\nEpoch 30/50\n2555/2555 [==============================] - 9s 3ms/step - loss: 0.0204 - accuracy: 0.9891\nEpoch 31/50\n2555/2555 [==============================] - 9s 4ms/step - loss: 0.0196 - accuracy: 0.9901\nEpoch 32/50\n2555/2555 [==============================] - 9s 3ms/step - loss: 0.0208 - accuracy: 0.9886\nEpoch 33/50\n2555/2555 [==============================] - 8s 3ms/step - loss: 0.0181 - accuracy: 0.9906\nEpoch 34/50\n2555/2555 [==============================] - 8s 3ms/step - loss: 0.0241 - accuracy: 0.9885\nEpoch 35/50\n2555/2555 [==============================] - 9s 3ms/step - loss: 0.0190 - accuracy: 0.9905\nEpoch 36/50\n2555/2555 [==============================] - 9s 3ms/step - loss: 0.0215 - accuracy: 0.9891\nEpoch 37/50\n2555/2555 [==============================] - 9s 3ms/step - loss: 0.0215 - accuracy: 0.9892\nEpoch 38/50\n2555/2555 [==============================] - 9s 4ms/step - loss: 0.0250 - accuracy: 0.9879\nEpoch 39/50\n2555/2555 [==============================] - 9s 3ms/step - loss: 0.0244 - accuracy: 0.9886\nEpoch 40/50\n2555/2555 [==============================] - 8s 3ms/step - loss: 0.0197 - accuracy: 0.9894\nEpoch 41/50\n2555/2555 [==============================] - 9s 3ms/step - loss: 0.0206 - accuracy: 0.9886\nEpoch 42/50\n2555/2555 [==============================] - 9s 3ms/step - loss: 0.0242 - accuracy: 0.9883\nEpoch 43/50\n2555/2555 [==============================] - 9s 4ms/step - loss: 0.0211 - accuracy: 0.9892\nEpoch 44/50\n2555/2555 [==============================] - 8s 3ms/step - loss: 0.0224 - accuracy: 0.9886\nEpoch 45/50\n2555/2555 [==============================] - 9s 3ms/step - loss: 0.0232 - accuracy: 0.9887\nEpoch 46/50\n2555/2555 [==============================] - 10s 4ms/step - loss: 0.0195 - accuracy: 0.9896\nEpoch 47/50\n2555/2555 [==============================] - 9s 4ms/step - loss: 0.0184 - accuracy: 0.9898\nEpoch 48/50\n2555/2555 [==============================] - 8s 3ms/step - loss: 0.0229 - accuracy: 0.9887\nEpoch 49/50\n2555/2555 [==============================] - 8s 3ms/step - loss: 0.0198 - accuracy: 0.9896\nEpoch 50/50\n2555/2555 [==============================] - 8s 3ms/step - loss: 0.0171 - accuracy: 0.9912\n"
    }
   ],
   "source": [
    "hist = model.fit(np.array(train_x), np.array(train_y), epochs=50, batch_size=5, verbose=1)"
   ]
  },
  {
   "cell_type": "code",
   "execution_count": 33,
   "metadata": {},
   "outputs": [],
   "source": [
    "def clean_up_sentence (sentence):\n",
    "    sentence_words = nltk.word_tokenize(sentence)\n",
    "    sentence_words = [stemmer.stem(word.lower()) for word in sentence_words]\n",
    "    return sentence_words\n",
    "\n",
    "def bow(sentence, words, show_details=True):\n",
    "    sentence_words = clean_up_sentence(sentence)\n",
    "    bag = [0] * len(words)\n",
    "    for s in sentence_words:\n",
    "        for i, w in enumerate(words):\n",
    "            if w == s:\n",
    "\n",
    "                bag[i] = 1\n",
    "                if show_details:\n",
    "                    print (\"found in bag: %s\" % w)\n",
    "    return(np.array(bag))\n",
    "            "
   ]
  },
  {
   "cell_type": "code",
   "execution_count": 34,
   "metadata": {
    "tags": []
   },
   "outputs": [
    {
     "output_type": "stream",
     "name": "stdout",
     "text": "found in bag: how\nfound in bag: ar\nfound in bag: you\n[0 0 0 0 0 0 0 0 0 0 0 0 0 0 0 0 0 0 1 0 0 0 0 0 0 0 0 0 0 0 0 0 0 0 0 0 0\n 0 0 0 0 0 0 0 0 0 0 0 0 0 1 0 0 0 0 0 0 0 0 0 0 0 0 0 0 0 0 0 0 0 0 0 0 0\n 0 0 0 0 0 0 0 0 0 0 0 0 0 0 0 0 0 0 0 0 0 0 0 0 1]\n['Hate', 'None', 'age', 'banter', 'body-pain', 'breathing', 'cough', 'diarrhoea', 'fever', 'goodbye', 'greeting', 'headache', 'name', 'nasal', 'noanswer', 'options', 'sore-throat', 'thanks', 'tiredness', 'unknown', 'vomit', 'yes']\n"
    }
   ],
   "source": [
    "p = bow(\"How are you today\", words)\n",
    "print (p)\n",
    "print (classes)"
   ]
  },
  {
   "cell_type": "code",
   "execution_count": 35,
   "metadata": {
    "tags": []
   },
   "outputs": [
    {
     "output_type": "stream",
     "name": "stdout",
     "text": "[[1.0356118e-11 2.8539363e-21 4.4036930e-10 8.7628099e-12 7.9814322e-15\n  4.0348631e-14 2.3085668e-17 6.5376065e-15 3.3665204e-13 4.7858236e-12\n  1.0000000e+00 3.0534569e-14 4.2115007e-14 1.1437704e-16 1.7113509e-11\n  2.6113933e-09 4.4175755e-13 1.1810736e-11 3.5349046e-14 6.9500142e-11\n  2.1666576e-15 7.5868201e-12]]\n"
    }
   ],
   "source": [
    "inputvar = pd.DataFrame([p], dtype=float, index=['input'])\n",
    "print(model.predict(inputvar))"
   ]
  },
  {
   "cell_type": "code",
   "execution_count": 36,
   "metadata": {
    "tags": []
   },
   "outputs": [],
   "source": [
    " model.save(\"chappy-bot-model.h5\", hist)\n",
    "\n"
   ]
  },
  {
   "cell_type": "code",
   "execution_count": 37,
   "metadata": {},
   "outputs": [],
   "source": [
    "\n",
    "\n",
    "pickle.dump({'words':words, 'classes':classes, 'train_x':train_x, 'train_y':train_y}, open ( \"chappy-bot-data.pkl\", \"wb\"))\n",
    "\n"
   ]
  },
  {
   "cell_type": "code",
   "execution_count": null,
   "metadata": {},
   "outputs": [],
   "source": []
  }
 ],
 "metadata": {
  "kernelspec": {
   "display_name": "Python 3.6.10 64-bit",
   "language": "python",
   "name": "python_defaultSpec_1599647343262"
  },
  "language_info": {
   "codemirror_mode": {
    "name": "ipython",
    "version": 3
   },
   "file_extension": ".py",
   "mimetype": "text/x-python",
   "name": "python",
   "nbconvert_exporter": "python",
   "pygments_lexer": "ipython3",
   "version": "3.6.10-final"
  }
 },
 "nbformat": 4,
 "nbformat_minor": 4
}