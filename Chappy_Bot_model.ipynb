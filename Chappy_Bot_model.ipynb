{
 "cells": [
  {
   "cell_type": "code",
   "execution_count": 20,
   "metadata": {
    "tags": []
   },
   "outputs": [],
   "source": [
    "import nltk\n",
    "from nltk.stem.lancaster import LancasterStemmer\n",
    "stemmer = LancasterStemmer()\n",
    "\n",
    "import numpy as np\n",
    "import tensorflow as tf\n",
    "from tensorflow import keras\n",
    "from keras.models import Sequential\n",
    "from keras.layers import Dense, Activation, Dropout\n",
    "from keras.optimizers import SGD\n",
    "import pandas as pd\n",
    "import pickle\n",
    "import random\n",
    "import tempfile\n"
   ]
  },
  {
   "cell_type": "code",
   "execution_count": 21,
   "metadata": {
    "tags": []
   },
   "outputs": [],
   "source": [
    "import json\n",
    "with open('intents.json') as json_data:\n",
    "    intents = json.load(json_data)\n"
   ]
  },
  {
   "cell_type": "code",
   "execution_count": 22,
   "metadata": {
    "tags": []
   },
   "outputs": [
    {
     "output_type": "stream",
     "name": "stdout",
     "text": [
      "1 documents\n",
      "1 classes ['unknown']\n",
      "1 unique stemmed words ['jbjkbk']\n",
      "7 documents\n",
      "2 classes ['greeting', 'unknown']\n",
      "6 unique stemmed words ['126889', 'hi', 'jbjkbk', 'kdd', 'kjbh', 'ljhh']\n",
      "13 documents\n",
      "3 classes ['goodbye', 'greeting', 'unknown']\n",
      "19 unique stemmed words ['126889', '?', 'anyon', 'ar', 'cya', 'day', 'good', 'hello', 'hi', 'how', 'is', 'jbjkbk', 'kdd', 'kjbh', 'ljhh', 'ther', 'up', 'what', 'you']\n",
      "17 documents\n",
      "4 classes ['age', 'goodbye', 'greeting', 'unknown']\n",
      "25 unique stemmed words ['126889', '?', 'a', 'anyon', 'ar', 'cya', 'day', 'good', 'goodby', 'hav', 'hello', 'hi', 'how', 'is', 'jbjkbk', 'kdd', 'kjbh', 'lat', 'ljhh', 'old', 'see', 'ther', 'up', 'what', 'you']\n",
      "22 documents\n",
      "5 classes ['age', 'goodbye', 'greeting', 'name', 'unknown']\n",
      "29 unique stemmed words ['126889', '?', 'a', 'ag', 'anyon', 'ar', 'cya', 'day', 'good', 'goodby', 'hav', 'hello', 'hi', 'how', 'is', 'jbjkbk', 'kdd', 'kjbh', 'lat', 'ljhh', 'nam', 'old', 'see', 'ther', 'tim', 'up', 'what', 'yo', 'you']\n",
      "25 documents\n",
      "6 classes ['age', 'goodbye', 'greeting', 'name', 'thanks', 'unknown']\n",
      "33 unique stemmed words ['126889', '?', 'a', 'ag', 'anyon', 'ar', 'cal', 'cya', 'day', 'good', 'goodby', 'hav', 'hello', 'hi', 'how', 'i', 'is', 'jbjkbk', 'kdd', 'kjbh', 'lat', 'ljhh', 'nam', 'old', 'see', 'should', 'thank', 'ther', 'tim', 'up', 'what', 'yo', 'you']\n",
      "30 documents\n",
      "7 classes ['age', 'goodbye', 'greeting', 'name', 'noanswer', 'thanks', 'unknown']\n",
      "40 unique stemmed words [\"'s\", ',', '126889', '?', 'a', 'ag', 'anyon', 'ar', 'awesom', 'cal', 'cya', 'day', 'for', 'good', 'goodby', 'hav', 'hello', 'help', 'hi', 'how', 'i', 'is', 'jbjkbk', 'kdd', 'kjbh', 'lat', 'ljhh', 'me', 'nam', 'old', 'see', 'should', 'thank', 'that', 'ther', 'tim', 'up', 'what', 'yo', 'you']\n",
      "33 documents\n",
      "8 classes ['age', 'goodbye', 'greeting', 'name', 'noanswer', 'options', 'thanks', 'unknown']\n",
      "49 unique stemmed words ['#', '$', '%', '&', \"'s\", '*', ',', '...', '126889', ':', '?', '@', 'a', 'ag', 'anyon', 'ar', 'awesom', 'cal', 'could', 'cya', 'day', 'for', 'good', 'goodby', 'hav', 'hello', 'help', 'hi', 'how', 'i', 'is', 'jbjkbk', 'kdd', 'kjbh', 'lat', 'ljhh', 'me', 'nam', 'old', 'see', 'should', 'thank', 'that', 'ther', 'tim', 'up', 'what', 'yo', 'you']\n",
      "38 documents\n",
      "9 classes ['Hate', 'age', 'goodbye', 'greeting', 'name', 'noanswer', 'options', 'thanks', 'unknown']\n",
      "56 unique stemmed words ['#', '$', '%', '&', \"'s\", '*', ',', '...', '126889', ':', '?', '@', 'a', 'ag', 'anyon', 'ar', 'awesom', 'be', 'cal', 'can', 'could', 'cya', 'day', 'do', 'for', 'good', 'goodby', 'hav', 'hello', 'help', 'hi', 'how', 'i', 'is', 'jbjkbk', 'kdd', 'kjbh', 'lat', 'ljhh', 'me', 'nam', 'off', 'old', 'provid', 'see', 'should', 'suck', 'support', 'thank', 'that', 'ther', 'tim', 'up', 'what', 'yo', 'you']\n",
      "42 documents\n",
      "10 classes ['Hate', 'age', 'banter', 'goodbye', 'greeting', 'name', 'noanswer', 'options', 'thanks', 'unknown']\n",
      "61 unique stemmed words ['#', '$', '%', '&', \"'s\", '*', ',', '...', '126889', ':', '?', '@', 'a', 'ag', 'anyon', 'ar', 'awesom', 'be', 'cal', 'can', 'could', 'cya', 'day', 'do', 'for', 'good', 'goodby', 'hat', 'hav', 'hello', 'help', 'hi', 'horr', 'how', 'i', 'is', 'jbjkbk', 'kdd', 'kjbh', 'lat', 'ljhh', 'marry', 'me', 'nam', 'off', 'old', 'provid', 'see', 'should', 'suck', 'support', 'thank', 'that', 'ther', 'tim', 'up', 'useless', 'what', 'wil', 'yo', 'you']\n",
      "44 documents\n",
      "11 classes ['Hate', 'age', 'banter', 'cough', 'goodbye', 'greeting', 'name', 'noanswer', 'options', 'thanks', 'unknown']\n",
      "63 unique stemmed words ['#', '$', '%', '&', \"'s\", '*', ',', '...', '126889', ':', '?', '@', 'a', 'ag', 'anyon', 'ar', 'awesom', 'be', 'cal', 'can', 'cough', 'could', 'cya', 'day', 'do', 'for', 'good', 'goodby', 'hat', 'hav', 'hello', 'help', 'hi', 'hor', 'how', 'i', 'is', 'jbjkbk', 'kdd', 'kjbh', 'lat', 'ljhh', 'lov', 'marry', 'me', 'nam', 'off', 'old', 'provid', 'see', 'should', 'suck', 'support', 'thank', 'that', 'ther', 'tim', 'up', 'useless', 'what', 'wil', 'yo', 'you']\n",
      "52 documents\n",
      "12 classes ['Hate', 'age', 'banter', 'cough', 'fever', 'goodbye', 'greeting', 'name', 'noanswer', 'options', 'thanks', 'unknown']\n",
      "66 unique stemmed words ['#', '$', '%', '&', \"'s\", '*', ',', '...', '126889', ':', '?', '@', 'a', 'ag', 'also', 'anyon', 'ar', 'awesom', 'be', 'cal', 'can', 'cough', 'could', 'cya', 'day', 'do', 'fev', 'for', 'good', 'goodby', 'hat', 'hav', 'hello', 'help', 'hi', 'hor', 'how', 'i', 'is', 'jbjkbk', 'kdd', 'kjbh', 'lat', 'ljhh', 'lov', 'marry', 'me', 'nam', 'off', 'old', 'provid', 'see', 'should', 'suck', 'support', 'thank', 'that', 'ther', 'tim', 'up', 'useless', 'what', 'wil', 'ye', 'yo', 'you']\n",
      "60 documents\n",
      "13 classes ['Hate', 'age', 'banter', 'cough', 'fever', 'goodbye', 'greeting', 'name', 'noanswer', 'options', 'thanks', 'tiredness', 'unknown']\n",
      "68 unique stemmed words ['#', '$', '%', '&', \"'s\", '*', ',', '...', '126889', ':', '?', '@', 'a', 'ag', 'also', 'anyon', 'ar', 'awesom', 'be', 'cal', 'can', 'cough', 'could', 'cya', 'day', 'do', 'feel', 'fev', 'for', 'good', 'goodby', 'hat', 'hav', 'hello', 'help', 'hi', 'hor', 'how', 'i', 'is', 'jbjkbk', 'kdd', 'kjbh', 'lat', 'ljhh', 'lov', 'marry', 'me', 'nam', 'off', 'old', 'provid', 'see', 'should', 'suck', 'support', 'thank', 'that', 'ther', 'tim', 'tir', 'up', 'useless', 'what', 'wil', 'ye', 'yo', 'you']\n",
      "69 documents\n",
      "14 classes ['Hate', 'age', 'banter', 'breathing', 'cough', 'fever', 'goodbye', 'greeting', 'name', 'noanswer', 'options', 'thanks', 'tiredness', 'unknown']\n",
      "72 unique stemmed words ['#', '$', '%', '&', \"'s\", '*', ',', '...', '126889', ':', '?', '@', 'a', 'ag', 'also', 'am', 'anyon', 'ar', 'awesom', 'be', 'breath', 'cal', 'can', 'cough', 'could', 'cya', 'day', 'difficul', 'do', 'feel', 'fev', 'for', 'good', 'goodby', 'hat', 'hav', 'hello', 'help', 'hi', 'hor', 'how', 'i', 'in', 'is', 'jbjkbk', 'kdd', 'kjbh', 'lat', 'ljhh', 'lov', 'marry', 'me', 'nam', 'off', 'old', 'provid', 'see', 'should', 'suck', 'support', 'thank', 'that', 'ther', 'tim', 'tir', 'up', 'useless', 'what', 'wil', 'ye', 'yo', 'you']\n",
      "75 documents\n",
      "15 classes ['Hate', 'age', 'banter', 'breathing', 'cough', 'fever', 'goodbye', 'greeting', 'name', 'nasal', 'noanswer', 'options', 'thanks', 'tiredness', 'unknown']\n",
      "77 unique stemmed words ['#', '$', '%', '&', \"'s\", '*', ',', '...', '126889', ':', '?', '@', 'a', 'ag', 'also', 'am', 'anyon', 'ar', 'awesom', 'be', 'brea', 'breath', 'cal', 'can', 'congest', 'cough', 'could', 'cya', 'day', 'diffic', 'difficul', 'do', 'feel', 'fev', 'for', 'good', 'goodby', 'hat', 'hav', 'hello', 'help', 'hi', 'hor', 'how', 'i', 'in', 'is', 'jbjkbk', 'kdd', 'kjbh', 'lat', 'ljhh', 'lov', 'marry', 'me', 'nam', 'nas', 'off', 'old', 'provid', 'see', 'short', 'should', 'suck', 'support', 'thank', 'that', 'ther', 'tim', 'tir', 'up', 'useless', 'what', 'wil', 'ye', 'yo', 'you']\n",
      "80 documents\n",
      "16 classes ['Hate', 'age', 'banter', 'breathing', 'cough', 'fever', 'goodbye', 'greeting', 'name', 'nasal', 'noanswer', 'options', 'thanks', 'tiredness', 'unknown', 'vomit']\n",
      "78 unique stemmed words ['#', '$', '%', '&', \"'s\", '*', ',', '...', '126889', ':', '?', '@', 'a', 'ag', 'also', 'am', 'anyon', 'ar', 'awesom', 'be', 'bre', 'brea', 'cal', 'can', 'congest', 'cough', 'could', 'cya', 'day', 'diff', 'diffic', 'do', 'feel', 'fev', 'for', 'good', 'goodby', 'hat', 'hav', 'hello', 'help', 'hi', 'hor', 'how', 'i', 'in', 'is', 'jbjkbk', 'kdd', 'kjbh', 'lat', 'ljhh', 'lov', 'marry', 'me', 'nam', 'nas', 'off', 'old', 'provid', 'see', 'short', 'should', 'suck', 'support', 'thank', 'that', 'ther', 'tim', 'tir', 'up', 'useless', 'vomit', 'what', 'wil', 'ye', 'yo', 'you']\n",
      "84 documents\n",
      "17 classes ['Hate', 'age', 'banter', 'breathing', 'cough', 'fever', 'goodbye', 'greeting', 'name', 'nasal', 'noanswer', 'options', 'sore-throat', 'thanks', 'tiredness', 'unknown', 'vomit']\n",
      "78 unique stemmed words ['#', '$', '%', '&', \"'s\", '*', ',', '...', '126889', ':', '?', '@', 'a', 'ag', 'also', 'am', 'anyon', 'ar', 'awesom', 'be', 'bre', 'cal', 'can', 'congest', 'cough', 'could', 'cya', 'day', 'diff', 'do', 'feel', 'fev', 'for', 'good', 'goodby', 'hat', 'hav', 'hello', 'help', 'hi', 'hor', 'how', 'i', 'in', 'is', 'jbjkbk', 'kdd', 'kjbh', 'lat', 'ljhh', 'lov', 'marry', 'me', 'nam', 'nas', 'off', 'old', 'provid', 'see', 'short', 'should', 'sor', 'suck', 'support', 'thank', 'that', 'ther', 'throat', 'tim', 'tir', 'up', 'useless', 'vomit', 'what', 'wil', 'ye', 'yo', 'you']\n",
      "89 documents\n",
      "18 classes ['Hate', 'age', 'banter', 'breathing', 'cough', 'fever', 'goodbye', 'greeting', 'headache', 'name', 'nasal', 'noanswer', 'options', 'sore-throat', 'thanks', 'tiredness', 'unknown', 'vomit']\n",
      "79 unique stemmed words ['#', '$', '%', '&', \"'s\", '*', ',', '...', '126889', ':', '?', '@', 'a', 'ag', 'also', 'am', 'anyon', 'ar', 'awesom', 'be', 'bre', 'cal', 'can', 'congest', 'cough', 'could', 'cya', 'day', 'diff', 'do', 'feel', 'fev', 'for', 'good', 'goodby', 'hat', 'hav', 'headach', 'hello', 'help', 'hi', 'hor', 'how', 'i', 'in', 'is', 'jbjkbk', 'kdd', 'kjbh', 'lat', 'ljhh', 'lov', 'marry', 'me', 'nam', 'nas', 'off', 'old', 'provid', 'see', 'short', 'should', 'sor', 'suck', 'support', 'thank', 'that', 'ther', 'throat', 'tim', 'tir', 'up', 'useless', 'vomit', 'what', 'wil', 'ye', 'yo', 'you']\n",
      "94 documents\n",
      "19 classes ['Hate', 'age', 'banter', 'body-pain', 'breathing', 'cough', 'fever', 'goodbye', 'greeting', 'headache', 'name', 'nasal', 'noanswer', 'options', 'sore-throat', 'thanks', 'tiredness', 'unknown', 'vomit']\n",
      "81 unique stemmed words ['#', '$', '%', '&', \"'s\", '*', ',', '...', '126889', ':', '?', '@', 'a', 'ag', 'also', 'am', 'anyon', 'ar', 'awesom', 'be', 'body', 'bre', 'cal', 'can', 'congest', 'cough', 'could', 'cya', 'day', 'diff', 'do', 'feel', 'fev', 'for', 'good', 'goodby', 'hat', 'hav', 'headach', 'hello', 'help', 'hi', 'hor', 'how', 'i', 'in', 'is', 'jbjkbk', 'kdd', 'kjbh', 'lat', 'ljhh', 'lov', 'marry', 'me', 'nam', 'nas', 'off', 'old', 'pain', 'provid', 'see', 'short', 'should', 'sor', 'suck', 'support', 'thank', 'that', 'ther', 'throat', 'tim', 'tir', 'up', 'useless', 'vomit', 'what', 'wil', 'ye', 'yo', 'you']\n",
      "100 documents\n",
      "20 classes ['Hate', 'age', 'banter', 'body-pain', 'breathing', 'cough', 'diarrhoea', 'fever', 'goodbye', 'greeting', 'headache', 'name', 'nasal', 'noanswer', 'options', 'sore-throat', 'thanks', 'tiredness', 'unknown', 'vomit']\n",
      "82 unique stemmed words ['#', '$', '%', '&', \"'s\", '*', ',', '...', '126889', ':', '?', '@', 'a', 'ag', 'also', 'am', 'anyon', 'ar', 'awesom', 'be', 'body', 'bre', 'cal', 'can', 'congest', 'cough', 'could', 'cya', 'day', 'diarrhoe', 'diff', 'do', 'feel', 'fev', 'for', 'good', 'goodby', 'hat', 'hav', 'headach', 'hello', 'help', 'hi', 'hor', 'how', 'i', 'in', 'is', 'jbjkbk', 'kdd', 'kjbh', 'lat', 'ljhh', 'lov', 'marry', 'me', 'nam', 'nas', 'off', 'old', 'pain', 'provid', 'see', 'short', 'should', 'sor', 'suck', 'support', 'thank', 'that', 'ther', 'throat', 'tim', 'tir', 'up', 'useless', 'vomit', 'what', 'wil', 'ye', 'yo', 'you']\n",
      "105 documents\n",
      "21 classes ['Hate', 'None', 'age', 'banter', 'body-pain', 'breathing', 'cough', 'diarrhoea', 'fever', 'goodbye', 'greeting', 'headache', 'name', 'nasal', 'noanswer', 'options', 'sore-throat', 'thanks', 'tiredness', 'unknown', 'vomit']\n",
      "84 unique stemmed words ['#', '$', '%', '&', \"'s\", '*', ',', '...', '126889', ':', '?', '@', 'a', 'ag', 'also', 'am', 'anyon', 'ar', 'awesom', 'be', 'body', 'bre', 'cal', 'can', 'congest', 'cough', 'could', 'cya', 'day', 'diarrho', 'diarrhoe', 'diff', 'do', 'feel', 'fev', 'for', 'good', 'goodby', 'hat', 'hav', 'headach', 'hello', 'help', 'hi', 'hor', 'how', 'i', 'in', 'is', 'jbjkbk', 'kdd', 'kjbh', 'lat', 'ljhh', 'lov', 'marry', 'me', 'nam', 'nas', 'non', 'off', 'old', 'pain', 'provid', 'see', 'short', 'should', 'sor', 'suck', 'support', 'thank', 'that', 'ther', 'throat', 'tim', 'tir', 'up', 'useless', 'vomit', 'what', 'wil', 'ye', 'yo', 'you']\n",
      "128 documents\n",
      "22 classes ['Hate', 'None', 'age', 'banter', 'body-pain', 'breathing', 'cough', 'diarrhoea', 'fever', 'goodbye', 'greeting', 'headache', 'name', 'nasal', 'noanswer', 'options', 'sore-throat', 'thanks', 'tiredness', 'unknown', 'vomit', 'yes']\n",
      "98 unique stemmed words ['#', '$', '%', '&', \"'s\", '*', ',', '...', '126889', ':', '?', '@', 'a', 'ag', 'also', 'am', 'any', 'anyon', 'ar', 'awesom', 'be', 'body', 'bre', 'breath', 'cal', 'can', 'congest', 'cough', 'could', 'cya', 'day', 'diarrho', 'diarrhoe', 'diff', 'difficul', 'do', 'dont', 'dry', 'feel', 'fev', 'for', 'good', 'goodby', 'hat', 'hav', 'headach', 'hello', 'help', 'hi', 'hor', 'how', 'i', 'in', 'is', 'jbjkbk', 'kdd', 'kjbh', 'lat', 'ljhh', 'lov', 'marry', 'me', \"n't\", 'nam', 'nas', 'nev', 'no', 'non', 'nop', 'of', 'off', 'old', 'oth', 'pain', 'provid', 'see', 'short', 'should', 'sor', 'sore-throat', 'suck', 'support', 'symptom', 'thank', 'that', 'ther', 'thes', 'throat', 'tim', 'tir', 'up', 'useless', 'vomit', 'what', 'wil', 'ye', 'yo', 'you']\n"
     ]
    }
   ],
   "source": [
    "words = []\n",
    "classes = []\n",
    "documents = []\n",
    "ignore_words = []\n",
    "\n",
    "for intent in intents ['intents']:\n",
    "    for pattern in intent ['patterns']:\n",
    "        w = nltk.word_tokenize(pattern)\n",
    "        words.extend(w)\n",
    "        documents.append((w, intent['tag']))\n",
    "        if intent['tag'] not in classes:\n",
    "            classes.append(intent['tag'])\n",
    "\n",
    "            words = [stemmer.stem(w.lower()) for w in words if w not in ignore_words]\n",
    "            words = sorted(list(set(words)))\n",
    "            classes = sorted(list(set(classes)))\n",
    "            print(len(documents), \"documents\")\n",
    "            print (len(classes), \"classes\", classes)\n",
    "            print (len(words), \"unique stemmed words\", words)\n",
    "\n",
    "            pickle.dump(words, open('words.pkl', 'wb'))\n",
    "            pickle.dump(classes, open('classes.pkl', 'wb'))\n",
    "\n",
    "\n"
   ]
  },
  {
   "cell_type": "code",
   "execution_count": 23,
   "metadata": {
    "tags": []
   },
   "outputs": [
    {
     "output_type": "stream",
     "name": "stdout",
     "text": [
      "Training data created\n",
      "ipykernel_launcher:18: VisibleDeprecationWarning: Creating an ndarray from ragged nested sequences (which is a list-or-tuple of lists-or-tuples-or ndarrays with different lengths or shapes) is deprecated. If you meant to do this, you must specify 'dtype=object' when creating the ndarray\n"
     ]
    }
   ],
   "source": [
    "training = []\n",
    "output_empty = [0] * len(classes)\n",
    "\n",
    "for doc in documents:\n",
    "    bag = []\n",
    "    pattern_words = doc[0]\n",
    "    pattern_words = [stemmer.stem(word.lower()) for word in pattern_words]\n",
    "\n",
    "    for w in words:\n",
    "        bag.append(1) if w in pattern_words else bag.append(0)\n",
    "\n",
    "        output_row = list(output_empty)\n",
    "        output_row[classes.index(doc[1])] = 1\n",
    "\n",
    "        training.append([bag, output_row])\n",
    "\n",
    "random.shuffle(training)\n",
    "training = np.array(training)\n",
    "\n",
    "train_x = list(training[:, 0])\n",
    "train_y = list(training[:, 1])\n",
    "print (\"Training data created\")\n",
    "\n"
   ]
  },
  {
   "cell_type": "code",
   "execution_count": 24,
   "metadata": {},
   "outputs": [],
   "source": [
    "model = keras.Sequential()\n",
    "model.add(keras.layers.Dense(128, input_shape=(len (train_x[0]),), activation ='relu'))\n",
    "model.add(keras.layers.Dropout(0.5))\n",
    "model.add(keras.layers.Dense(64, activation='relu'))\n",
    "model.add(keras.layers.Dropout(0.5))\n",
    "model.add(keras.layers.Dense(len(train_y[0]), activation='softmax'))"
   ]
  },
  {
   "cell_type": "code",
   "execution_count": 25,
   "metadata": {
    "tags": []
   },
   "outputs": [
    {
     "output_type": "stream",
     "name": "stdout",
     "text": [
      "Model: \"sequential_1\"\n_________________________________________________________________\nLayer (type)                 Output Shape              Param #   \n=================================================================\ndense_3 (Dense)              (None, 128)               12672     \n_________________________________________________________________\ndropout_2 (Dropout)          (None, 128)               0         \n_________________________________________________________________\ndense_4 (Dense)              (None, 64)                8256      \n_________________________________________________________________\ndropout_3 (Dropout)          (None, 64)                0         \n_________________________________________________________________\ndense_5 (Dense)              (None, 22)                1430      \n=================================================================\nTotal params: 22,358\nTrainable params: 22,358\nNon-trainable params: 0\n_________________________________________________________________\n"
     ]
    }
   ],
   "source": [
    "model.summary()"
   ]
  },
  {
   "cell_type": "code",
   "execution_count": 26,
   "metadata": {},
   "outputs": [],
   "source": [
    "sgd = SGD(lr=0.01, decay=1e-6, momentum=0.9, nesterov=True)\n",
    "model.compile(loss='categorical_crossentropy', optimizer=sgd, metrics=['accuracy'])"
   ]
  },
  {
   "cell_type": "code",
   "execution_count": 27,
   "metadata": {
    "tags": []
   },
   "outputs": [
    {
     "output_type": "stream",
     "name": "stdout",
     "text": [
      "Epoch 1/50\n",
      "2509/2509 [==============================] - 10s 4ms/step - loss: 0.5656 - accuracy: 0.8396\n",
      "Epoch 2/50\n",
      "2509/2509 [==============================] - 8s 3ms/step - loss: 0.0887 - accuracy: 0.9736\n",
      "Epoch 3/50\n",
      "2509/2509 [==============================] - 8s 3ms/step - loss: 0.0584 - accuracy: 0.9798\n",
      "Epoch 4/50\n",
      "2509/2509 [==============================] - 9s 4ms/step - loss: 0.0496 - accuracy: 0.9821\n",
      "Epoch 5/50\n",
      "2509/2509 [==============================] - 8s 3ms/step - loss: 0.0411 - accuracy: 0.9837\n",
      "Epoch 6/50\n",
      "2509/2509 [==============================] - 8s 3ms/step - loss: 0.0385 - accuracy: 0.9844\n",
      "Epoch 7/50\n",
      "2509/2509 [==============================] - 8s 3ms/step - loss: 0.0342 - accuracy: 0.9864\n",
      "Epoch 8/50\n",
      "2509/2509 [==============================] - 8s 3ms/step - loss: 0.0360 - accuracy: 0.9853\n",
      "Epoch 9/50\n",
      "2509/2509 [==============================] - 9s 3ms/step - loss: 0.0331 - accuracy: 0.9865\n",
      "Epoch 10/50\n",
      "2509/2509 [==============================] - 8s 3ms/step - loss: 0.0307 - accuracy: 0.9860\n",
      "Epoch 11/50\n",
      "2509/2509 [==============================] - 10s 4ms/step - loss: 0.0269 - accuracy: 0.9882\n",
      "Epoch 12/50\n",
      "2509/2509 [==============================] - 8s 3ms/step - loss: 0.0318 - accuracy: 0.9862\n",
      "Epoch 13/50\n",
      "2509/2509 [==============================] - 9s 4ms/step - loss: 0.0284 - accuracy: 0.9882\n",
      "Epoch 14/50\n",
      "2509/2509 [==============================] - 8s 3ms/step - loss: 0.0265 - accuracy: 0.9877\n",
      "Epoch 15/50\n",
      "2509/2509 [==============================] - 9s 3ms/step - loss: 0.0268 - accuracy: 0.9876\n",
      "Epoch 16/50\n",
      "2509/2509 [==============================] - 8s 3ms/step - loss: 0.0281 - accuracy: 0.9873\n",
      "Epoch 17/50\n",
      "2509/2509 [==============================] - 10s 4ms/step - loss: 0.0293 - accuracy: 0.9880\n",
      "Epoch 18/50\n",
      "2509/2509 [==============================] - 13s 5ms/step - loss: 0.0271 - accuracy: 0.9872\n",
      "Epoch 19/50\n",
      "2509/2509 [==============================] - 12s 5ms/step - loss: 0.0238 - accuracy: 0.9884\n",
      "Epoch 20/50\n",
      "2509/2509 [==============================] - 13s 5ms/step - loss: 0.0229 - accuracy: 0.9876\n",
      "Epoch 21/50\n",
      "2509/2509 [==============================] - 9s 4ms/step - loss: 0.0224 - accuracy: 0.9886\n",
      "Epoch 22/50\n",
      "2509/2509 [==============================] - 10s 4ms/step - loss: 0.0266 - accuracy: 0.9870\n",
      "Epoch 23/50\n",
      "2509/2509 [==============================] - 10s 4ms/step - loss: 0.0252 - accuracy: 0.9882\n",
      "Epoch 24/50\n",
      "2509/2509 [==============================] - 9s 4ms/step - loss: 0.0228 - accuracy: 0.9885\n",
      "Epoch 25/50\n",
      "2509/2509 [==============================] - 8s 3ms/step - loss: 0.0278 - accuracy: 0.9875\n",
      "Epoch 26/50\n",
      "2509/2509 [==============================] - 9s 4ms/step - loss: 0.0277 - accuracy: 0.9869\n",
      "Epoch 27/50\n",
      "2509/2509 [==============================] - 10s 4ms/step - loss: 0.0235 - accuracy: 0.9891\n",
      "Epoch 28/50\n",
      "2509/2509 [==============================] - 9s 4ms/step - loss: 0.0221 - accuracy: 0.9900\n",
      "Epoch 29/50\n",
      "2509/2509 [==============================] - 9s 4ms/step - loss: 0.0223 - accuracy: 0.9895\n",
      "Epoch 30/50\n",
      "2509/2509 [==============================] - 9s 4ms/step - loss: 0.0286 - accuracy: 0.9873\n",
      "Epoch 31/50\n",
      "2509/2509 [==============================] - 9s 3ms/step - loss: 0.0215 - accuracy: 0.9890\n",
      "Epoch 32/50\n",
      "2509/2509 [==============================] - 9s 3ms/step - loss: 0.0244 - accuracy: 0.9886\n",
      "Epoch 33/50\n",
      "2509/2509 [==============================] - 9s 4ms/step - loss: 0.0248 - accuracy: 0.9881\n",
      "Epoch 34/50\n",
      "2509/2509 [==============================] - 9s 3ms/step - loss: 0.0227 - accuracy: 0.9896\n",
      "Epoch 35/50\n",
      "2509/2509 [==============================] - 8s 3ms/step - loss: 0.0211 - accuracy: 0.9884\n",
      "Epoch 36/50\n",
      "2509/2509 [==============================] - 10s 4ms/step - loss: 0.0207 - accuracy: 0.9890\n",
      "Epoch 37/50\n",
      "2509/2509 [==============================] - 10s 4ms/step - loss: 0.0222 - accuracy: 0.9885\n",
      "Epoch 38/50\n",
      "2509/2509 [==============================] - 10s 4ms/step - loss: 0.0243 - accuracy: 0.9884\n",
      "Epoch 39/50\n",
      "2509/2509 [==============================] - 9s 4ms/step - loss: 0.0222 - accuracy: 0.9888\n",
      "Epoch 40/50\n",
      "2509/2509 [==============================] - 8s 3ms/step - loss: 0.0235 - accuracy: 0.9880\n",
      "Epoch 41/50\n",
      "2509/2509 [==============================] - 8s 3ms/step - loss: 0.0225 - accuracy: 0.9888\n",
      "Epoch 42/50\n",
      "2509/2509 [==============================] - 9s 3ms/step - loss: 0.0203 - accuracy: 0.9902\n",
      "Epoch 43/50\n",
      "2509/2509 [==============================] - 10s 4ms/step - loss: 0.0208 - accuracy: 0.9895\n",
      "Epoch 44/50\n",
      "2509/2509 [==============================] - 8s 3ms/step - loss: 0.0197 - accuracy: 0.9907\n",
      "Epoch 45/50\n",
      "2509/2509 [==============================] - 8s 3ms/step - loss: 0.0253 - accuracy: 0.9880\n",
      "Epoch 46/50\n",
      "2509/2509 [==============================] - 9s 4ms/step - loss: 0.0226 - accuracy: 0.9890\n",
      "Epoch 47/50\n",
      "2509/2509 [==============================] - 9s 3ms/step - loss: 0.0187 - accuracy: 0.9893\n",
      "Epoch 48/50\n",
      "2509/2509 [==============================] - 9s 3ms/step - loss: 0.0224 - accuracy: 0.9878\n",
      "Epoch 49/50\n",
      "2509/2509 [==============================] - 9s 4ms/step - loss: 0.0211 - accuracy: 0.9886\n",
      "Epoch 50/50\n",
      "2509/2509 [==============================] - 10s 4ms/step - loss: 0.0245 - accuracy: 0.9886\n"
     ]
    }
   ],
   "source": [
    "hist = model.fit(np.array(train_x), np.array(train_y), epochs=50, batch_size=5, verbose=1)"
   ]
  },
  {
   "cell_type": "code",
   "execution_count": 28,
   "metadata": {},
   "outputs": [],
   "source": [
    "def clean_up_sentence (sentence):\n",
    "    sentence_words = nltk.word_tokenize(sentence)\n",
    "    sentence_words = [stemmer.stem(word.lower()) for word in sentence_words]\n",
    "    return sentence_words\n",
    "\n",
    "def bow(sentence, words, show_details=True):\n",
    "    sentence_words = clean_up_sentence(sentence)\n",
    "    bag = [0] * len(words)\n",
    "    for s in sentence_words:\n",
    "        for i, w in enumerate(words):\n",
    "            if w == s:\n",
    "\n",
    "                bag[i] = 1\n",
    "                if show_details:\n",
    "                    print (\"found in bag: %s\" % w)\n",
    "    return(np.array(bag))\n",
    "            "
   ]
  },
  {
   "cell_type": "code",
   "execution_count": 29,
   "metadata": {
    "tags": []
   },
   "outputs": [
    {
     "output_type": "stream",
     "name": "stdout",
     "text": [
      "found in bag: how\nfound in bag: ar\nfound in bag: you\n[0 0 0 0 0 0 0 0 0 0 0 0 0 0 0 0 0 0 1 0 0 0 0 0 0 0 0 0 0 0 0 0 0 0 0 0 0\n 0 0 0 0 0 0 0 0 0 0 0 0 0 1 0 0 0 0 0 0 0 0 0 0 0 0 0 0 0 0 0 0 0 0 0 0 0\n 0 0 0 0 0 0 0 0 0 0 0 0 0 0 0 0 0 0 0 0 0 0 0 1]\n['Hate', 'None', 'age', 'banter', 'body-pain', 'breathing', 'cough', 'diarrhoea', 'fever', 'goodbye', 'greeting', 'headache', 'name', 'nasal', 'noanswer', 'options', 'sore-throat', 'thanks', 'tiredness', 'unknown', 'vomit', 'yes']\n"
     ]
    }
   ],
   "source": [
    "p = bow(\"How are you today\", words)\n",
    "print (p)\n",
    "print (classes)"
   ]
  },
  {
   "cell_type": "code",
   "execution_count": 30,
   "metadata": {
    "tags": []
   },
   "outputs": [
    {
     "output_type": "stream",
     "name": "stdout",
     "text": [
      "[[4.66663947e-12 2.73696013e-14 1.60234482e-11 1.16554275e-15\n  2.74492462e-16 2.15597740e-18 7.46677145e-17 1.01312684e-17\n  2.44866609e-20 3.29496223e-14 1.00000000e+00 9.45769278e-18\n  9.99029201e-13 6.77297878e-15 3.08731037e-15 2.85500551e-12\n  8.85770190e-12 1.18801421e-15 4.34665068e-16 3.53833429e-16\n  1.16727754e-12 4.83941670e-14]]\n"
     ]
    }
   ],
   "source": [
    "inputvar = pd.DataFrame([p], dtype=float, index=['input'])\n",
    "print(model.predict(inputvar))"
   ]
  },
  {
   "cell_type": "code",
   "execution_count": 31,
   "metadata": {
    "tags": []
   },
   "outputs": [],
   "source": [
    " model.save(\"chappy-bot-model.h5\", hist)\n",
    "\n"
   ]
  },
  {
   "cell_type": "code",
   "execution_count": 32,
   "metadata": {},
   "outputs": [],
   "source": [
    "\n",
    "\n",
    "pickle.dump({'words':words, 'classes':classes, 'train_x':train_x, 'train_y':train_y}, open ( \"chappy-bot-data.pkl\", \"wb\"))\n",
    "\n"
   ]
  },
  {
   "cell_type": "code",
   "execution_count": null,
   "metadata": {},
   "outputs": [],
   "source": []
  }
 ],
 "metadata": {
  "kernelspec": {
   "name": "python3",
   "display_name": "Python 3.6.10 64-bit ('chat_bot': conda)",
   "metadata": {
    "interpreter": {
     "hash": "188116306bda923fdd40ee1be82ae81d0697b2a3fcd66dbf1924fb0cceb53578"
    }
   }
  },
  "language_info": {
   "codemirror_mode": {
    "name": "ipython",
    "version": 3
   },
   "file_extension": ".py",
   "mimetype": "text/x-python",
   "name": "python",
   "nbconvert_exporter": "python",
   "pygments_lexer": "ipython3",
   "version": "3.6.10-final"
  }
 },
 "nbformat": 4,
 "nbformat_minor": 4
}