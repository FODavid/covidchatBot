{
 "metadata": {
  "language_info": {
   "codemirror_mode": {
    "name": "ipython",
    "version": 3
   },
   "file_extension": ".py",
   "mimetype": "text/x-python",
   "name": "python",
   "nbconvert_exporter": "python",
   "pygments_lexer": "ipython3",
   "version": "3.6.10-final"
  },
  "orig_nbformat": 2,
  "kernelspec": {
   "name": "python_defaultSpec_1599429155506",
   "display_name": "Python 3.6.10 64-bit ('chat_bot': conda)"
  }
 },
 "nbformat": 4,
 "nbformat_minor": 2,
 "cells": [
  {
   "cell_type": "code",
   "execution_count": 5,
   "metadata": {},
   "outputs": [],
   "source": [
    "import numpy as np\n",
    "import pandas as pd\n",
    "\n",
    "dataset = pd.read_csv('covid-19.csv');\n",
    "\n",
    "dataset.head();"
   ]
  },
  {
   "cell_type": "markdown",
   "metadata": {
    "tags": []
   },
   "source": [
    "\n",
    "%%bash\n",
    "which python\n"
   ]
  },
  {
   "cell_type": "code",
   "execution_count": 31,
   "metadata": {
    "tags": []
   },
   "outputs": [
    {
     "output_type": "stream",
     "name": "stdout",
     "text": "[[57  2]\n [ 4 67]]\n              precision    recall  f1-score   support\n\n           1       0.93      0.97      0.95        59\n           2       0.97      0.94      0.96        71\n\n    accuracy                           0.95       130\n   macro avg       0.95      0.95      0.95       130\nweighted avg       0.95      0.95      0.95       130\n\n"
    }
   ],
   "source": [
    "import numpy as np\n",
    "import pandas as pd\n",
    "from sklearn.model_selection import train_test_split\n",
    "from sklearn.neighbors import KNeighborsClassifier\n",
    "from sklearn.metrics import classification_report, confusion_matrix\n",
    "import pickle\n",
    "\n",
    "dataset = pd.read_csv('covid-19.csv');\n",
    "\n",
    "#print(dataset.head());\n",
    "attr = dataset.iloc[:, :-1].values\n",
    "label = dataset.iloc[:, 10].values\n",
    "\n",
    "attr_train, attr_test, label_train, label_test = train_test_split(attr, label, test_size=0.20)\n",
    "\n",
    "classifier = KNeighborsClassifier(n_neighbors=8)\n",
    "classifier.fit(attr_train, label_train)\n",
    "label_pred = classifier.predict(attr_test)\n",
    "\n",
    "\n",
    "print(confusion_matrix(label_test, label_pred))\n",
    "print(classification_report(label_test, label_pred))\n",
    "\n",
    "# Its important to use binary mode \n",
    "knnPickle = open('knnpickle_file', 'wb') \n",
    " \n",
    "# source, destination \n",
    "pickle.dump(classifier, knnPickle)                      \n",
    "\n",
    "\n",
    "# load the model from disk\n",
    "#test = [attr_test[0]]\n",
    "#loaded_model = pickle.load(open('knnpickle_file', 'rb'))\n",
    "#result = loaded_model.predict(test) \n",
    "#print(result)"
   ]
  },
  {
   "cell_type": "code",
   "execution_count": null,
   "metadata": {},
   "outputs": [],
   "source": []
  }
 ]
}